{
 "cells": [
  {
   "cell_type": "code",
   "execution_count": 1,
   "id": "bace7aaa-56ff-4fc9-b7bd-c08773719aca",
   "metadata": {
    "tags": []
   },
   "outputs": [
    {
     "data": {
      "text/html": [
       "<div>\n",
       "<style scoped>\n",
       "    .dataframe tbody tr th:only-of-type {\n",
       "        vertical-align: middle;\n",
       "    }\n",
       "\n",
       "    .dataframe tbody tr th {\n",
       "        vertical-align: top;\n",
       "    }\n",
       "\n",
       "    .dataframe thead th {\n",
       "        text-align: right;\n",
       "    }\n",
       "</style>\n",
       "<table border=\"1\" class=\"dataframe\">\n",
       "  <thead>\n",
       "    <tr style=\"text-align: right;\">\n",
       "      <th></th>\n",
       "      <th>co2_value</th>\n",
       "      <th>temp_value</th>\n",
       "      <th>light_value</th>\n",
       "      <th>humidity_value</th>\n",
       "      <th>time</th>\n",
       "      <th>room</th>\n",
       "      <th>label</th>\n",
       "    </tr>\n",
       "  </thead>\n",
       "  <tbody>\n",
       "    <tr>\n",
       "      <th>0</th>\n",
       "      <td>387.0</td>\n",
       "      <td>22.62</td>\n",
       "      <td>252.0</td>\n",
       "      <td>52.75</td>\n",
       "      <td>2013-08-23 23:04:53</td>\n",
       "      <td>511</td>\n",
       "      <td>0</td>\n",
       "    </tr>\n",
       "    <tr>\n",
       "      <th>1</th>\n",
       "      <td>579.0</td>\n",
       "      <td>24.37</td>\n",
       "      <td>176.0</td>\n",
       "      <td>49.90</td>\n",
       "      <td>2013-08-23 23:04:57</td>\n",
       "      <td>656A</td>\n",
       "      <td>1</td>\n",
       "    </tr>\n",
       "    <tr>\n",
       "      <th>2</th>\n",
       "      <td>434.0</td>\n",
       "      <td>24.08</td>\n",
       "      <td>11.0</td>\n",
       "      <td>49.94</td>\n",
       "      <td>2013-08-23 23:05:01</td>\n",
       "      <td>564</td>\n",
       "      <td>1</td>\n",
       "    </tr>\n",
       "    <tr>\n",
       "      <th>3</th>\n",
       "      <td>423.0</td>\n",
       "      <td>23.11</td>\n",
       "      <td>3.0</td>\n",
       "      <td>53.51</td>\n",
       "      <td>2013-08-23 23:05:01</td>\n",
       "      <td>558</td>\n",
       "      <td>0</td>\n",
       "    </tr>\n",
       "    <tr>\n",
       "      <th>4</th>\n",
       "      <td>538.0</td>\n",
       "      <td>25.26</td>\n",
       "      <td>102.0</td>\n",
       "      <td>46.49</td>\n",
       "      <td>2013-08-23 23:05:05</td>\n",
       "      <td>656B</td>\n",
       "      <td>1</td>\n",
       "    </tr>\n",
       "  </tbody>\n",
       "</table>\n",
       "</div>"
      ],
      "text/plain": [
       "   co2_value  temp_value  light_value  humidity_value                 time  \\\n",
       "0      387.0       22.62        252.0           52.75  2013-08-23 23:04:53   \n",
       "1      579.0       24.37        176.0           49.90  2013-08-23 23:04:57   \n",
       "2      434.0       24.08         11.0           49.94  2013-08-23 23:05:01   \n",
       "3      423.0       23.11          3.0           53.51  2013-08-23 23:05:01   \n",
       "4      538.0       25.26        102.0           46.49  2013-08-23 23:05:05   \n",
       "\n",
       "   room  label  \n",
       "0   511      0  \n",
       "1  656A      1  \n",
       "2   564      1  \n",
       "3   558      0  \n",
       "4  656B      1  "
      ]
     },
     "execution_count": 1,
     "metadata": {},
     "output_type": "execute_result"
    }
   ],
   "source": [
    "import pandas as pd\n",
    "df = pd.read_csv(\"test_df/test-data-sampled.csv\")\n",
    "df.head()"
   ]
  },
  {
   "cell_type": "code",
   "execution_count": 2,
   "id": "69edf53a-6086-4ff4-9fda-326a787e18a9",
   "metadata": {
    "tags": []
   },
   "outputs": [],
   "source": [
    "df[\"time\"] = df[\"time\"].apply(lambda x: pd.to_datetime(x).strftime('%Y-%m-%dT%H:%M:%S.000+03:00'))\n"
   ]
  },
  {
   "cell_type": "code",
   "execution_count": 3,
   "id": "128c7e3c-6c14-4145-85d4-afac873fe069",
   "metadata": {
    "tags": []
   },
   "outputs": [
    {
     "data": {
      "text/html": [
       "<div>\n",
       "<style scoped>\n",
       "    .dataframe tbody tr th:only-of-type {\n",
       "        vertical-align: middle;\n",
       "    }\n",
       "\n",
       "    .dataframe tbody tr th {\n",
       "        vertical-align: top;\n",
       "    }\n",
       "\n",
       "    .dataframe thead th {\n",
       "        text-align: right;\n",
       "    }\n",
       "</style>\n",
       "<table border=\"1\" class=\"dataframe\">\n",
       "  <thead>\n",
       "    <tr style=\"text-align: right;\">\n",
       "      <th></th>\n",
       "      <th>co2_value</th>\n",
       "      <th>temp_value</th>\n",
       "      <th>light_value</th>\n",
       "      <th>humidity_value</th>\n",
       "      <th>time</th>\n",
       "      <th>room</th>\n",
       "      <th>label</th>\n",
       "    </tr>\n",
       "  </thead>\n",
       "  <tbody>\n",
       "    <tr>\n",
       "      <th>0</th>\n",
       "      <td>387.0</td>\n",
       "      <td>22.62</td>\n",
       "      <td>252.0</td>\n",
       "      <td>52.75</td>\n",
       "      <td>2013-08-23T23:04:53.000+03:00</td>\n",
       "      <td>511</td>\n",
       "      <td>0</td>\n",
       "    </tr>\n",
       "    <tr>\n",
       "      <th>1</th>\n",
       "      <td>579.0</td>\n",
       "      <td>24.37</td>\n",
       "      <td>176.0</td>\n",
       "      <td>49.90</td>\n",
       "      <td>2013-08-23T23:04:57.000+03:00</td>\n",
       "      <td>656A</td>\n",
       "      <td>1</td>\n",
       "    </tr>\n",
       "    <tr>\n",
       "      <th>2</th>\n",
       "      <td>434.0</td>\n",
       "      <td>24.08</td>\n",
       "      <td>11.0</td>\n",
       "      <td>49.94</td>\n",
       "      <td>2013-08-23T23:05:01.000+03:00</td>\n",
       "      <td>564</td>\n",
       "      <td>1</td>\n",
       "    </tr>\n",
       "    <tr>\n",
       "      <th>3</th>\n",
       "      <td>423.0</td>\n",
       "      <td>23.11</td>\n",
       "      <td>3.0</td>\n",
       "      <td>53.51</td>\n",
       "      <td>2013-08-23T23:05:01.000+03:00</td>\n",
       "      <td>558</td>\n",
       "      <td>0</td>\n",
       "    </tr>\n",
       "    <tr>\n",
       "      <th>4</th>\n",
       "      <td>538.0</td>\n",
       "      <td>25.26</td>\n",
       "      <td>102.0</td>\n",
       "      <td>46.49</td>\n",
       "      <td>2013-08-23T23:05:05.000+03:00</td>\n",
       "      <td>656B</td>\n",
       "      <td>1</td>\n",
       "    </tr>\n",
       "  </tbody>\n",
       "</table>\n",
       "</div>"
      ],
      "text/plain": [
       "   co2_value  temp_value  light_value  humidity_value  \\\n",
       "0      387.0       22.62        252.0           52.75   \n",
       "1      579.0       24.37        176.0           49.90   \n",
       "2      434.0       24.08         11.0           49.94   \n",
       "3      423.0       23.11          3.0           53.51   \n",
       "4      538.0       25.26        102.0           46.49   \n",
       "\n",
       "                            time  room  label  \n",
       "0  2013-08-23T23:04:53.000+03:00   511      0  \n",
       "1  2013-08-23T23:04:57.000+03:00  656A      1  \n",
       "2  2013-08-23T23:05:01.000+03:00   564      1  \n",
       "3  2013-08-23T23:05:01.000+03:00   558      0  \n",
       "4  2013-08-23T23:05:05.000+03:00  656B      1  "
      ]
     },
     "execution_count": 3,
     "metadata": {},
     "output_type": "execute_result"
    }
   ],
   "source": [
    "df.head()"
   ]
  },
  {
   "cell_type": "code",
   "execution_count": 8,
   "id": "6e9954d7-1248-4f1d-92bd-f3884ac55058",
   "metadata": {
    "tags": []
   },
   "outputs": [],
   "source": [
    "df = df.drop([\"label\"], axis=1)"
   ]
  },
  {
   "cell_type": "code",
   "execution_count": 9,
   "id": "4a999e25-a39f-4b0b-9ba4-0a5e28a627ee",
   "metadata": {
    "tags": []
   },
   "outputs": [
    {
     "name": "stdout",
     "output_type": "stream",
     "text": [
      "<class 'pandas.core.frame.DataFrame'>\n",
      "RangeIndex: 59097 entries, 0 to 59096\n",
      "Data columns (total 6 columns):\n",
      " #   Column          Non-Null Count  Dtype  \n",
      "---  ------          --------------  -----  \n",
      " 0   co2_value       59097 non-null  float64\n",
      " 1   temp_value      59097 non-null  float64\n",
      " 2   light_value     59097 non-null  float64\n",
      " 3   humidity_value  59097 non-null  float64\n",
      " 4   time            59097 non-null  object \n",
      " 5   room            59097 non-null  object \n",
      "dtypes: float64(4), object(2)\n",
      "memory usage: 2.7+ MB\n"
     ]
    }
   ],
   "source": [
    "df.info()"
   ]
  },
  {
   "cell_type": "code",
   "execution_count": 10,
   "id": "3d804f6e-11cf-409d-a6aa-136d474df241",
   "metadata": {
    "tags": []
   },
   "outputs": [],
   "source": [
    "df.to_csv(\"test-data-sampled.csv\",index=False)"
   ]
  },
  {
   "cell_type": "code",
   "execution_count": null,
   "id": "74863d9c-f2be-40cc-b80f-f1af7895278a",
   "metadata": {},
   "outputs": [],
   "source": []
  }
 ],
 "metadata": {
  "kernelspec": {
   "display_name": "Python 3 (ipykernel)",
   "language": "python",
   "name": "python3"
  },
  "language_info": {
   "codemirror_mode": {
    "name": "ipython",
    "version": 3
   },
   "file_extension": ".py",
   "mimetype": "text/x-python",
   "name": "python",
   "nbconvert_exporter": "python",
   "pygments_lexer": "ipython3",
   "version": "3.10.9"
  }
 },
 "nbformat": 4,
 "nbformat_minor": 5
}
