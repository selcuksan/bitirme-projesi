{
 "cells": [
  {
   "cell_type": "markdown",
   "id": "bc29013e",
   "metadata": {},
   "source": [
    "<h3>Importing Modules</h3>"
   ]
  },
  {
   "cell_type": "code",
   "execution_count": 1,
   "id": "e76abd10",
   "metadata": {
    "tags": []
   },
   "outputs": [],
   "source": [
    "from pyspark.sql import SparkSession, functions as F\n",
    "import pandas as pd\n",
    "import warnings\n",
    "from pyspark.ml.feature import StringIndexer\n",
    "from pyspark.ml.feature import OneHotEncoder\n",
    "from pyspark.ml.feature import VectorAssembler\n",
    "from pyspark.ml.classification import GBTClassifier\n",
    "from pyspark.ml import Pipeline"
   ]
  },
  {
   "cell_type": "code",
   "execution_count": 2,
   "id": "14438a84",
   "metadata": {
    "tags": []
   },
   "outputs": [],
   "source": [
    "warnings.simplefilter(action='ignore')\n",
    "\n",
    "# display\n",
    "pd.set_option('display.max_columns', None)\n",
    "pd.set_option('display.max_rows', None)"
   ]
  },
  {
   "cell_type": "markdown",
   "id": "165eb470",
   "metadata": {
    "tags": []
   },
   "source": [
    "<h3>Create SparkSession object</h3>"
   ]
  },
  {
   "cell_type": "code",
   "execution_count": 3,
   "id": "5efc1bf1",
   "metadata": {
    "tags": []
   },
   "outputs": [],
   "source": [
    "spark = SparkSession.builder \\\n",
    "    .appName(\"sensors_realtime_prediction\") \\\n",
    "    .master(\"local[2]\") \\\n",
    "    .enableHiveSupport() \\\n",
    "    .getOrCreate()\n",
    "\n",
    "spark.sparkContext.setLogLevel('ERROR')"
   ]
  },
  {
   "cell_type": "markdown",
   "id": "e0216a4e",
   "metadata": {
    "tags": []
   },
   "source": [
    "<h3>Read data from source</h3>"
   ]
  },
  {
   "cell_type": "code",
   "execution_count": 4,
   "id": "52cd347e",
   "metadata": {
    "tags": []
   },
   "outputs": [
    {
     "name": "stdout",
     "output_type": "stream",
     "text": [
      "+-------------------+------+----+------+\n",
      "|time               |value |room|sensor|\n",
      "+-------------------+------+----+------+\n",
      "|2013-08-23 23:05:03|2287.0|668 |light |\n",
      "|2013-08-23 23:05:05|1977.0|668 |light |\n",
      "|2013-08-23 23:05:26|2208.0|668 |light |\n",
      "|2013-08-23 23:05:30|2267.0|668 |light |\n",
      "|2013-08-23 23:05:33|2097.0|668 |light |\n",
      "|2013-08-23 23:05:38|2111.0|668 |light |\n",
      "|2013-08-23 23:05:43|2257.0|668 |light |\n",
      "|2013-08-23 23:05:48|2200.0|668 |light |\n",
      "|2013-08-23 23:05:53|2164.0|668 |light |\n",
      "|2013-08-23 23:05:58|2183.0|668 |light |\n",
      "+-------------------+------+----+------+\n",
      "only showing top 10 rows\n",
      "\n"
     ]
    },
    {
     "data": {
      "text/plain": [
       "DataFrame[time: timestamp, value: double, room: string, sensor: string]"
      ]
     },
     "execution_count": 4,
     "metadata": {},
     "output_type": "execute_result"
    }
   ],
   "source": [
    "df = spark.read.format(\"csv\") \\\n",
    "    .option(\"header\", False) \\\n",
    "    .option(\"inferSchema\", True) \\\n",
    "    .option(\"sep\", \",\") \\\n",
    "    .load(\"/home/selcuk/spark/bitirme-projesi/data/*/*.csv\") \\\n",
    "    .withColumn(\"file_name\", F.input_file_name()) \\\n",
    "    .withColumn(\"_c0\", F.to_timestamp(\"_c0\")) \\\n",
    "    .withColumn(\"room\", F.element_at(F.reverse(F.split(F.col(\"file_name\"), \"/\")), 2)) \\\n",
    "    .withColumn(\"sensor\", F.regexp_replace(F.element_at(F.reverse(F.split(F.col(\"file_name\"), \"/\")), 1), \".csv\", \"\")) \\\n",
    "    .withColumnRenamed(\"_c0\", \"time\") \\\n",
    "    .withColumnRenamed(\"_c1\", \"value\") \\\n",
    "    .drop(\"file_name\")\n",
    "\n",
    "df.show(n=10, truncate=False)\n",
    "df.cache()"
   ]
  },
  {
   "cell_type": "markdown",
   "id": "0701e95a",
   "metadata": {
    "tags": []
   },
   "source": [
    "<h3>Creating different dataframes based on sensor type</h3>"
   ]
  },
  {
   "cell_type": "code",
   "execution_count": 5,
   "id": "b5551ad4-27a6-4c6a-9468-325a07d1123e",
   "metadata": {
    "tags": []
   },
   "outputs": [
    {
     "name": "stdout",
     "output_type": "stream",
     "text": [
      "+---------+--------+-------------------+\n",
      "|pir_value|room_pir|           time_pir|\n",
      "+---------+--------+-------------------+\n",
      "|      0.0|     648|2013-08-23 19:24:34|\n",
      "|     29.0|     648|2013-08-23 22:13:24|\n",
      "|     28.0|     648|2013-08-23 22:13:34|\n",
      "|     30.0|     648|2013-08-23 22:13:36|\n",
      "|     30.0|     648|2013-08-23 22:13:37|\n",
      "+---------+--------+-------------------+\n",
      "only showing top 5 rows\n",
      "\n"
     ]
    }
   ],
   "source": [
    "##### Divide sensor into dataframes #####\n",
    "df_pir = df.filter(\"sensor=='pir'\") \\\n",
    "    .withColumn(\"pir_value\", F.col(\"value\")) \\\n",
    "    .withColumn(\"room_pir\", F.col(\"room\")) \\\n",
    "    .withColumn(\"time_pir\", F.col(\"time\")) \\\n",
    "    .drop(\"sensor\", \"value\", \"room\", \"time\")\n",
    "df_pir.show(5)"
   ]
  },
  {
   "cell_type": "code",
   "execution_count": 6,
   "id": "947da608-4ba7-433d-81cd-4f70599c2e03",
   "metadata": {
    "tags": []
   },
   "outputs": [
    {
     "name": "stdout",
     "output_type": "stream",
     "text": [
      "+-----------+----------+-------------------+\n",
      "|light_value|room_light|         time_light|\n",
      "+-----------+----------+-------------------+\n",
      "|     2287.0|       668|2013-08-23 23:05:03|\n",
      "|     1977.0|       668|2013-08-23 23:05:05|\n",
      "|     2208.0|       668|2013-08-23 23:05:26|\n",
      "|     2267.0|       668|2013-08-23 23:05:30|\n",
      "|     2097.0|       668|2013-08-23 23:05:33|\n",
      "+-----------+----------+-------------------+\n",
      "only showing top 5 rows\n",
      "\n"
     ]
    }
   ],
   "source": [
    "df_light = df.filter(\"sensor=='light'\") \\\n",
    "    .withColumn(\"light_value\", F.col(\"value\")) \\\n",
    "    .withColumn(\"room_light\", F.col(\"room\")) \\\n",
    "    .withColumn(\"time_light\", F.col(\"time\")) \\\n",
    "    .drop(\"sensor\", \"value\", \"room\", \"time\")\n",
    "df_light.show(5)"
   ]
  },
  {
   "cell_type": "code",
   "execution_count": 7,
   "id": "7690f8d3-b62e-472c-a21d-530ec08df06b",
   "metadata": {
    "tags": []
   },
   "outputs": [
    {
     "name": "stdout",
     "output_type": "stream",
     "text": [
      "+--------------+-------------+-------------------+\n",
      "|humidity_value|room_humidity|      time_humidity|\n",
      "+--------------+-------------+-------------------+\n",
      "|         50.29|          776|2013-08-23 21:20:29|\n",
      "|         50.26|          776|2013-08-23 21:20:34|\n",
      "|         50.26|          776|2013-08-23 21:20:39|\n",
      "|         50.26|          776|2013-08-23 21:20:44|\n",
      "|         50.26|          776|2013-08-23 21:20:49|\n",
      "+--------------+-------------+-------------------+\n",
      "only showing top 5 rows\n",
      "\n"
     ]
    }
   ],
   "source": [
    "df_humidity = df.filter(\"sensor=='humidity'\") \\\n",
    "    .withColumn(\"humidity_value\", F.col(\"value\")) \\\n",
    "    .withColumn(\"room_humidity\", F.col(\"room\")) \\\n",
    "    .withColumn(\"time_humidity\", F.col(\"time\")) \\\n",
    "    .drop(\"sensor\", \"value\", \"room\", \"time\")\n",
    "df_humidity.show(5)"
   ]
  },
  {
   "cell_type": "code",
   "execution_count": 8,
   "id": "40fdabcf-2675-4bb7-ab6e-8db1db17a8c1",
   "metadata": {
    "tags": []
   },
   "outputs": [
    {
     "name": "stdout",
     "output_type": "stream",
     "text": [
      "+---------+--------+-------------------+\n",
      "|co2_value|room_co2|           time_co2|\n",
      "+---------+--------+-------------------+\n",
      "|    462.0|     415|2013-08-23 16:24:18|\n",
      "|    468.0|     415|2013-08-23 16:24:23|\n",
      "|    467.0|     415|2013-08-23 16:24:28|\n",
      "|    472.0|     415|2013-08-23 16:24:33|\n",
      "|    482.0|     415|2013-08-23 16:24:38|\n",
      "+---------+--------+-------------------+\n",
      "only showing top 5 rows\n",
      "\n"
     ]
    }
   ],
   "source": [
    "df_c02 = df.filter(\"sensor=='co2'\") \\\n",
    "    .withColumn(\"co2_value\", F.col(\"value\")) \\\n",
    "    .withColumn(\"room_co2\", F.col(\"room\")) \\\n",
    "    .withColumn(\"time_co2\", F.col(\"time\")) \\\n",
    "    .drop(\"sensor\", \"value\", \"room\", \"time\")\n",
    "df_c02.show(5)"
   ]
  },
  {
   "cell_type": "code",
   "execution_count": 9,
   "id": "5d014835",
   "metadata": {
    "tags": []
   },
   "outputs": [
    {
     "name": "stdout",
     "output_type": "stream",
     "text": [
      "+----------+---------+-------------------+\n",
      "|temp_value|room_temp|          time_temp|\n",
      "+----------+---------+-------------------+\n",
      "|     24.22|      776|2013-08-23 21:20:29|\n",
      "|     24.24|      776|2013-08-23 21:20:34|\n",
      "|     24.24|      776|2013-08-23 21:20:39|\n",
      "|     24.24|      776|2013-08-23 21:20:44|\n",
      "|     24.24|      776|2013-08-23 21:20:49|\n",
      "+----------+---------+-------------------+\n",
      "only showing top 5 rows\n",
      "\n"
     ]
    }
   ],
   "source": [
    "df_temp = df.filter(\"sensor=='temperature'\") \\\n",
    "    .withColumn(\"temp_value\", F.col(\"value\")) \\\n",
    "    .withColumn(\"room_temp\", F.col(\"room\")) \\\n",
    "    .withColumn(\"time_temp\", F.col(\"time\")) \\\n",
    "    .drop(\"sensor\", \"value\", \"room\", \"time\")\n",
    "df_temp.show(5)"
   ]
  },
  {
   "cell_type": "markdown",
   "id": "ed3b6e0d",
   "metadata": {
    "tags": []
   },
   "source": [
    "<h3>Joining these dataframes</h3>"
   ]
  },
  {
   "cell_type": "code",
   "execution_count": 10,
   "id": "78e69d30",
   "metadata": {
    "tags": []
   },
   "outputs": [
    {
     "data": {
      "text/plain": [
       "135386"
      ]
     },
     "execution_count": 10,
     "metadata": {},
     "output_type": "execute_result"
    }
   ],
   "source": [
    "df = df_pir.join(df_c02, (df_pir[\"room_pir\"] == df_c02[\"room_co2\"]) & (df_pir[\"time_pir\"] == df_c02[\"time_co2\"]),\n",
    "                        \"inner\") \\\n",
    "    .join(df_temp, (df_pir[\"room_pir\"] == df_temp[\"room_temp\"]) & (df_pir[\"time_pir\"] == df_temp[\"time_temp\"]), \"inner\") \\\n",
    "    .join(df_light, (df_pir[\"room_pir\"] == df_light[\"room_light\"]) & (df_pir[\"time_pir\"] == df_light[\"time_light\"]),\n",
    "          \"inner\") \\\n",
    "    .join(df_humidity,\n",
    "          (df_pir[\"room_pir\"] == df_humidity[\"room_humidity\"]) & (df_pir[\"time_pir\"] == df_humidity[\"time_humidity\"]),\n",
    "          \"inner\")\n",
    "\n",
    "df.count()\n",
    "# 135386"
   ]
  },
  {
   "cell_type": "code",
   "execution_count": 11,
   "id": "97bb4730-5b39-4024-b0e9-81dedba6f205",
   "metadata": {
    "tags": []
   },
   "outputs": [
    {
     "name": "stdout",
     "output_type": "stream",
     "text": [
      "+---------+--------+-------------------+---------+--------+-------------------+----------+---------+-------------------+-----------+----------+-------------------+--------------+-------------+-------------------+\n",
      "|pir_value|room_pir|           time_pir|co2_value|room_co2|           time_co2|temp_value|room_temp|          time_temp|light_value|room_light|         time_light|humidity_value|room_humidity|      time_humidity|\n",
      "+---------+--------+-------------------+---------+--------+-------------------+----------+---------+-------------------+-----------+----------+-------------------+--------------+-------------+-------------------+\n",
      "|      0.0|     413|2013-08-25 18:58:04|    459.0|     413|2013-08-25 18:58:04|     23.48|      413|2013-08-25 18:58:04|      103.0|       413|2013-08-25 18:58:04|         52.75|          413|2013-08-25 18:58:04|\n",
      "|      0.0|     413|2013-08-25 20:22:55|    446.0|     413|2013-08-25 20:22:55|     23.54|      413|2013-08-25 20:22:55|      105.0|       413|2013-08-25 20:22:55|         52.43|          413|2013-08-25 20:22:55|\n",
      "|      0.0|     413|2013-08-25 23:58:53|    455.0|     413|2013-08-25 23:58:53|     24.36|      413|2013-08-25 23:58:53|      182.0|       413|2013-08-25 23:58:53|         50.83|          413|2013-08-25 23:58:53|\n",
      "+---------+--------+-------------------+---------+--------+-------------------+----------+---------+-------------------+-----------+----------+-------------------+--------------+-------------+-------------------+\n",
      "only showing top 3 rows\n",
      "\n"
     ]
    }
   ],
   "source": [
    "df.show(3)"
   ]
  },
  {
   "cell_type": "markdown",
   "id": "2fed64e2",
   "metadata": {
    "tags": []
   },
   "source": [
    "<h3>Dropping Columns</h3>"
   ]
  },
  {
   "cell_type": "code",
   "execution_count": 12,
   "id": "8fe57416",
   "metadata": {
    "tags": []
   },
   "outputs": [],
   "source": [
    "df = df \\\n",
    "    .withColumn(\"time\", F.col(\"time_pir\")) \\\n",
    "    .withColumn(\"room\", F.col(\"room_pir\")) \\\n",
    "    .drop(\"value\", \"room_co2\", \"time_co2\", \"room_temp\", \"time_temp\", \"room_light\", \"time_light\", \"room_humidity\",\n",
    "          \"time_humidity\", \"time_pir\", \"room_pir\")\n",
    "\n"
   ]
  },
  {
   "cell_type": "code",
   "execution_count": 13,
   "id": "e52a4eed-23e4-4f37-8ef7-3720c9693a0a",
   "metadata": {
    "tags": []
   },
   "outputs": [
    {
     "name": "stdout",
     "output_type": "stream",
     "text": [
      "root\n",
      " |-- pir_value: double (nullable = true)\n",
      " |-- co2_value: double (nullable = true)\n",
      " |-- temp_value: double (nullable = true)\n",
      " |-- light_value: double (nullable = true)\n",
      " |-- humidity_value: double (nullable = true)\n",
      " |-- time: timestamp (nullable = true)\n",
      " |-- room: string (nullable = true)\n",
      "\n"
     ]
    }
   ],
   "source": [
    "df.printSchema()"
   ]
  },
  {
   "cell_type": "code",
   "execution_count": 14,
   "id": "5ba675a4-3861-46e0-bb2d-f7d9d7a6f195",
   "metadata": {
    "tags": []
   },
   "outputs": [
    {
     "name": "stdout",
     "output_type": "stream",
     "text": [
      "+-------+-----------------+------------------+------------------+------------------+------------------+\n",
      "|summary|        pir_value|         co2_value|        temp_value|       light_value|    humidity_value|\n",
      "+-------+-----------------+------------------+------------------+------------------+------------------+\n",
      "|  count|           135386|            135386|            135386|            135386|            135386|\n",
      "|   mean|1.666804544044436|399.27423071809494|23.415894774939918|140.57186119687412|56.891765987619664|\n",
      "| stddev|6.508213709182818|119.08185828746498|11.836374214777713|470.68676287201504| 3.611998136062539|\n",
      "|    min|              0.0|              62.0|              20.2|               0.0|             42.12|\n",
      "|    max|             30.0|            1223.0|            579.27|            2397.0|             71.29|\n",
      "+-------+-----------------+------------------+------------------+------------------+------------------+\n",
      "\n"
     ]
    }
   ],
   "source": [
    "df.select(\"pir_value\",\"co2_value\", \"temp_value\", \"light_value\", \"humidity_value\").describe().show()"
   ]
  },
  {
   "cell_type": "markdown",
   "id": "03ccd63c",
   "metadata": {
    "tags": []
   },
   "source": [
    "<h3>Create Target Feature</h3>"
   ]
  },
  {
   "cell_type": "code",
   "execution_count": 15,
   "id": "fc7bdf8b",
   "metadata": {
    "tags": []
   },
   "outputs": [
    {
     "name": "stdout",
     "output_type": "stream",
     "text": [
      "+---------+----------+-----------+--------------+-------------------+----+-----+\n",
      "|co2_value|temp_value|light_value|humidity_value|               time|room|label|\n",
      "+---------+----------+-----------+--------------+-------------------+----+-----+\n",
      "|    459.0|     23.48|      103.0|         52.75|2013-08-25 18:58:04| 413|    0|\n",
      "|    446.0|     23.54|      105.0|         52.43|2013-08-25 20:22:55| 413|    0|\n",
      "|    455.0|     24.36|      182.0|         50.83|2013-08-25 23:58:53| 413|    0|\n",
      "+---------+----------+-----------+--------------+-------------------+----+-----+\n",
      "only showing top 3 rows\n",
      "\n"
     ]
    }
   ],
   "source": [
    "df_last = df.withColumn(\"pir_value\", F.when(F.col(\"pir_value\") > 0, 1) \\\n",
    "                           .otherwise(F.col(\"pir_value\"))) \\\n",
    "    .withColumn(\"label\", F.col(\"pir_value\").cast(\"int\")).drop(\"pir_value\")\n",
    "\n",
    "df_last.show(3)"
   ]
  },
  {
   "cell_type": "code",
   "execution_count": 16,
   "id": "63dda440-adf2-461c-88aa-1c216d15594c",
   "metadata": {
    "tags": []
   },
   "outputs": [
    {
     "name": "stdout",
     "output_type": "stream",
     "text": [
      "root\n",
      " |-- co2_value: double (nullable = true)\n",
      " |-- temp_value: double (nullable = true)\n",
      " |-- light_value: double (nullable = true)\n",
      " |-- humidity_value: double (nullable = true)\n",
      " |-- time: timestamp (nullable = true)\n",
      " |-- room: string (nullable = true)\n",
      " |-- label: integer (nullable = true)\n",
      "\n"
     ]
    }
   ],
   "source": [
    "df_last.printSchema()"
   ]
  },
  {
   "cell_type": "code",
   "execution_count": 18,
   "id": "d92e8660-9f74-44b5-830b-d3e41e6891ec",
   "metadata": {
    "tags": []
   },
   "outputs": [
    {
     "data": {
      "text/plain": [
       "135386"
      ]
     },
     "execution_count": 18,
     "metadata": {},
     "output_type": "execute_result"
    }
   ],
   "source": [
    "df_last.count()"
   ]
  },
  {
   "cell_type": "code",
   "execution_count": 19,
   "id": "b8764060-d3e0-4af3-bbb3-4d5cba3fc40f",
   "metadata": {
    "tags": []
   },
   "outputs": [],
   "source": [
    "pandasDF = df_last.toPandas()"
   ]
  },
  {
   "cell_type": "code",
   "execution_count": 21,
   "id": "ca097179-8780-40b9-a842-13d2d73f7d3f",
   "metadata": {
    "tags": []
   },
   "outputs": [
    {
     "data": {
      "text/html": [
       "<div>\n",
       "<style scoped>\n",
       "    .dataframe tbody tr th:only-of-type {\n",
       "        vertical-align: middle;\n",
       "    }\n",
       "\n",
       "    .dataframe tbody tr th {\n",
       "        vertical-align: top;\n",
       "    }\n",
       "\n",
       "    .dataframe thead th {\n",
       "        text-align: right;\n",
       "    }\n",
       "</style>\n",
       "<table border=\"1\" class=\"dataframe\">\n",
       "  <thead>\n",
       "    <tr style=\"text-align: right;\">\n",
       "      <th></th>\n",
       "      <th>co2_value</th>\n",
       "      <th>temp_value</th>\n",
       "      <th>light_value</th>\n",
       "      <th>humidity_value</th>\n",
       "      <th>time</th>\n",
       "      <th>room</th>\n",
       "      <th>label</th>\n",
       "    </tr>\n",
       "  </thead>\n",
       "  <tbody>\n",
       "    <tr>\n",
       "      <th>103476</th>\n",
       "      <td>387.0</td>\n",
       "      <td>22.62</td>\n",
       "      <td>252.0</td>\n",
       "      <td>52.75</td>\n",
       "      <td>2013-08-23 23:04:53</td>\n",
       "      <td>511</td>\n",
       "      <td>0</td>\n",
       "    </tr>\n",
       "    <tr>\n",
       "      <th>14202</th>\n",
       "      <td>579.0</td>\n",
       "      <td>24.37</td>\n",
       "      <td>176.0</td>\n",
       "      <td>49.90</td>\n",
       "      <td>2013-08-23 23:04:57</td>\n",
       "      <td>656A</td>\n",
       "      <td>1</td>\n",
       "    </tr>\n",
       "    <tr>\n",
       "      <th>59836</th>\n",
       "      <td>465.0</td>\n",
       "      <td>22.80</td>\n",
       "      <td>165.0</td>\n",
       "      <td>52.40</td>\n",
       "      <td>2013-08-23 23:04:57</td>\n",
       "      <td>644</td>\n",
       "      <td>0</td>\n",
       "    </tr>\n",
       "    <tr>\n",
       "      <th>36772</th>\n",
       "      <td>175.0</td>\n",
       "      <td>23.32</td>\n",
       "      <td>191.0</td>\n",
       "      <td>50.32</td>\n",
       "      <td>2013-08-23 23:04:57</td>\n",
       "      <td>648</td>\n",
       "      <td>0</td>\n",
       "    </tr>\n",
       "    <tr>\n",
       "      <th>57900</th>\n",
       "      <td>434.0</td>\n",
       "      <td>24.08</td>\n",
       "      <td>11.0</td>\n",
       "      <td>49.94</td>\n",
       "      <td>2013-08-23 23:05:01</td>\n",
       "      <td>564</td>\n",
       "      <td>1</td>\n",
       "    </tr>\n",
       "  </tbody>\n",
       "</table>\n",
       "</div>"
      ],
      "text/plain": [
       "        co2_value  temp_value  light_value  humidity_value  \\\n",
       "103476      387.0       22.62        252.0           52.75   \n",
       "14202       579.0       24.37        176.0           49.90   \n",
       "59836       465.0       22.80        165.0           52.40   \n",
       "36772       175.0       23.32        191.0           50.32   \n",
       "57900       434.0       24.08         11.0           49.94   \n",
       "\n",
       "                      time  room  label  \n",
       "103476 2013-08-23 23:04:53   511      0  \n",
       "14202  2013-08-23 23:04:57  656A      1  \n",
       "59836  2013-08-23 23:04:57   644      0  \n",
       "36772  2013-08-23 23:04:57   648      0  \n",
       "57900  2013-08-23 23:05:01   564      1  "
      ]
     },
     "execution_count": 21,
     "metadata": {},
     "output_type": "execute_result"
    }
   ],
   "source": [
    "pandasDF = pandasDF.sort_values(by=['time'])\n",
    "pandasDF.head()"
   ]
  },
  {
   "cell_type": "code",
   "execution_count": null,
   "id": "cc1a429e-bc6a-46f7-a849-4e7437a5f567",
   "metadata": {
    "tags": []
   },
   "outputs": [],
   "source": [
    "# pandasDF.to_csv(\"sensor-data.csv\",index=False)"
   ]
  },
  {
   "cell_type": "code",
   "execution_count": null,
   "id": "c7c0de4f-c4b8-4be0-a62c-953e0c08a8a5",
   "metadata": {},
   "outputs": [],
   "source": []
  },
  {
   "cell_type": "code",
   "execution_count": null,
   "id": "be061341-b1b5-4039-a49f-5d8b68add31e",
   "metadata": {},
   "outputs": [],
   "source": []
  },
  {
   "cell_type": "code",
   "execution_count": null,
   "id": "e089f8cc-d746-46db-9c64-385c374bf104",
   "metadata": {},
   "outputs": [],
   "source": []
  }
 ],
 "metadata": {
  "kernelspec": {
   "display_name": "Python 3 (ipykernel)",
   "language": "python",
   "name": "python3"
  },
  "language_info": {
   "codemirror_mode": {
    "name": "ipython",
    "version": 3
   },
   "file_extension": ".py",
   "mimetype": "text/x-python",
   "name": "python",
   "nbconvert_exporter": "python",
   "pygments_lexer": "ipython3",
   "version": "3.10.9"
  },
  "vscode": {
   "interpreter": {
    "hash": "916dbcbb3f70747c44a77c7bcd40155683ae19c65e1c03b4aa3499c5328201f1"
   }
  }
 },
 "nbformat": 4,
 "nbformat_minor": 5
}
