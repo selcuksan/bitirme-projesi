{
 "cells": [
  {
   "cell_type": "code",
   "execution_count": 1,
   "id": "50d2acf4-42fd-432a-962c-5b446bc3197d",
   "metadata": {
    "tags": []
   },
   "outputs": [],
   "source": [
    "from pyspark.sql import SparkSession, functions as F\n",
    "import pandas as pd\n",
    "import warnings\n",
    "from pyspark.ml.feature import StringIndexer\n",
    "from pyspark.ml.feature import OneHotEncoder\n",
    "from pyspark.ml.feature import VectorAssembler\n",
    "from pyspark.ml.classification import GBTClassifier\n",
    "from pyspark.ml import Pipeline\n",
    "from sklearn.model_selection import train_test_split\n",
    "from pyspark.ml.tuning import CrossValidator, ParamGridBuilder\n",
    "from pyspark.sql.functions import rand\n",
    "from pyspark.ml.evaluation import BinaryClassificationEvaluator\n",
    "from pyspark.ml.pipeline import PipelineModel\n",
    "from pyspark.ml.classification import (LogisticRegression, DecisionTreeClassifier, \n",
    "                                        GBTClassifier, NaiveBayes)\n",
    "from pyspark.ml.tuning import ParamGridBuilder, CrossValidator\n",
    "from pyspark.ml.classification import RandomForestClassifier"
   ]
  },
  {
   "cell_type": "code",
   "execution_count": 2,
   "id": "05b91a7f-7478-4d63-b264-3de1550a481c",
   "metadata": {
    "tags": []
   },
   "outputs": [],
   "source": [
    "warnings.simplefilter(action='ignore')\n",
    "\n",
    "# display\n",
    "pd.set_option('display.max_columns', None)\n",
    "pd.set_option('display.max_rows', None)"
   ]
  },
  {
   "cell_type": "markdown",
   "id": "7981af0b-a3cd-4ded-a0af-07f33896105d",
   "metadata": {},
   "source": [
    "## Spark Session"
   ]
  },
  {
   "cell_type": "code",
   "execution_count": 3,
   "id": "0934a9cb-b872-4401-9cb8-a2bd6e1bf235",
   "metadata": {
    "tags": []
   },
   "outputs": [],
   "source": [
    "spark = SparkSession.builder \\\n",
    "    .appName(\"sensors_realtime_prediction\") \\\n",
    "    .master(\"local[2]\") \\\n",
    "    .enableHiveSupport() \\\n",
    "    .getOrCreate()\n",
    "\n",
    "spark.sparkContext.setLogLevel('ERROR')"
   ]
  },
  {
   "cell_type": "code",
   "execution_count": 4,
   "id": "9182f50a-2f3a-45fb-87c6-682b047c3fe4",
   "metadata": {
    "tags": []
   },
   "outputs": [],
   "source": [
    "pandasDF = pd.read_csv(\"../test_df/sensor-data.csv\")"
   ]
  },
  {
   "cell_type": "code",
   "execution_count": 5,
   "id": "88cf9aa1-38dc-4427-a74d-d400667de4a1",
   "metadata": {
    "tags": []
   },
   "outputs": [
    {
     "data": {
      "text/plain": [
       "0    126289\n",
       "1      9097\n",
       "Name: label, dtype: int64"
      ]
     },
     "execution_count": 5,
     "metadata": {},
     "output_type": "execute_result"
    }
   ],
   "source": [
    "pandasDF[\"label\"].value_counts()"
   ]
  },
  {
   "cell_type": "code",
   "execution_count": 6,
   "id": "4f708aaa-3273-4796-849b-e81acd61b3a2",
   "metadata": {
    "tags": []
   },
   "outputs": [],
   "source": [
    "df_0 = pandasDF.loc[pandasDF[\"label\"] == 0].sample(50000)\n",
    "df_1 = pandasDF.loc[pandasDF[\"label\"] == 1].sample(9097)\n",
    "df_sampled = pd.concat([df_0, df_1], axis=0)"
   ]
  },
  {
   "cell_type": "code",
   "execution_count": 7,
   "id": "78a0df0a-00ea-4c78-a595-6ea31454f47b",
   "metadata": {
    "tags": []
   },
   "outputs": [],
   "source": [
    "df_sampled = df_sampled.sort_values(by=['time'])"
   ]
  },
  {
   "cell_type": "code",
   "execution_count": 8,
   "id": "deb10354-5400-4a90-a842-31aeed4c80ed",
   "metadata": {
    "tags": []
   },
   "outputs": [
    {
     "data": {
      "text/plain": [
       "0    50000\n",
       "1     9097\n",
       "Name: label, dtype: int64"
      ]
     },
     "execution_count": 8,
     "metadata": {},
     "output_type": "execute_result"
    }
   ],
   "source": [
    "df_sampled[\"label\"].value_counts()"
   ]
  },
  {
   "cell_type": "code",
   "execution_count": 9,
   "id": "af07ed67-2e7a-4637-8a81-7ec5e87219c0",
   "metadata": {
    "tags": []
   },
   "outputs": [
    {
     "data": {
      "text/html": [
       "<div>\n",
       "<style scoped>\n",
       "    .dataframe tbody tr th:only-of-type {\n",
       "        vertical-align: middle;\n",
       "    }\n",
       "\n",
       "    .dataframe tbody tr th {\n",
       "        vertical-align: top;\n",
       "    }\n",
       "\n",
       "    .dataframe thead th {\n",
       "        text-align: right;\n",
       "    }\n",
       "</style>\n",
       "<table border=\"1\" class=\"dataframe\">\n",
       "  <thead>\n",
       "    <tr style=\"text-align: right;\">\n",
       "      <th></th>\n",
       "      <th>co2_value</th>\n",
       "      <th>temp_value</th>\n",
       "      <th>light_value</th>\n",
       "      <th>humidity_value</th>\n",
       "      <th>time</th>\n",
       "      <th>room</th>\n",
       "      <th>label</th>\n",
       "    </tr>\n",
       "  </thead>\n",
       "  <tbody>\n",
       "    <tr>\n",
       "      <th>2</th>\n",
       "      <td>465.0</td>\n",
       "      <td>22.80</td>\n",
       "      <td>165.0</td>\n",
       "      <td>52.40</td>\n",
       "      <td>2013-08-23 23:04:57</td>\n",
       "      <td>644</td>\n",
       "      <td>0</td>\n",
       "    </tr>\n",
       "    <tr>\n",
       "      <th>1</th>\n",
       "      <td>579.0</td>\n",
       "      <td>24.37</td>\n",
       "      <td>176.0</td>\n",
       "      <td>49.90</td>\n",
       "      <td>2013-08-23 23:04:57</td>\n",
       "      <td>656A</td>\n",
       "      <td>1</td>\n",
       "    </tr>\n",
       "    <tr>\n",
       "      <th>4</th>\n",
       "      <td>434.0</td>\n",
       "      <td>24.08</td>\n",
       "      <td>11.0</td>\n",
       "      <td>49.94</td>\n",
       "      <td>2013-08-23 23:05:01</td>\n",
       "      <td>564</td>\n",
       "      <td>1</td>\n",
       "    </tr>\n",
       "  </tbody>\n",
       "</table>\n",
       "</div>"
      ],
      "text/plain": [
       "   co2_value  temp_value  light_value  humidity_value                 time  \\\n",
       "2      465.0       22.80        165.0           52.40  2013-08-23 23:04:57   \n",
       "1      579.0       24.37        176.0           49.90  2013-08-23 23:04:57   \n",
       "4      434.0       24.08         11.0           49.94  2013-08-23 23:05:01   \n",
       "\n",
       "   room  label  \n",
       "2   644      0  \n",
       "1  656A      1  \n",
       "4   564      1  "
      ]
     },
     "execution_count": 9,
     "metadata": {},
     "output_type": "execute_result"
    }
   ],
   "source": [
    "df_sampled.head(3)"
   ]
  },
  {
   "cell_type": "code",
   "execution_count": 10,
   "id": "0864f865-99d7-431d-a56f-d9b386410ed2",
   "metadata": {
    "tags": []
   },
   "outputs": [],
   "source": [
    "# df_sampled.to_csv(\"test-data-sampled.csv\",index=False)"
   ]
  },
  {
   "cell_type": "code",
   "execution_count": 11,
   "id": "8983e3cb-d779-4085-8737-8a7df5f4b387",
   "metadata": {
    "tags": []
   },
   "outputs": [],
   "source": [
    "\n",
    "\n",
    "train, test = train_test_split(df_sampled, test_size=0.2)"
   ]
  },
  {
   "cell_type": "code",
   "execution_count": 12,
   "id": "886f992a-6cd4-4d6e-a39d-fd8f97a5a287",
   "metadata": {
    "tags": []
   },
   "outputs": [
    {
     "name": "stdout",
     "output_type": "stream",
     "text": [
      "0    39988\n",
      "1     7289\n",
      "Name: label, dtype: int64\n",
      "0    10012\n",
      "1     1808\n",
      "Name: label, dtype: int64\n"
     ]
    }
   ],
   "source": [
    "print(train[\"label\"].value_counts())\n",
    "print(test[\"label\"].value_counts())"
   ]
  },
  {
   "cell_type": "code",
   "execution_count": 13,
   "id": "79a0b5cc-7876-4bbb-a2ac-0560a794d0e9",
   "metadata": {
    "tags": []
   },
   "outputs": [],
   "source": [
    "test_df = spark.createDataFrame(test)\n",
    "train_df = spark.createDataFrame(train)"
   ]
  },
  {
   "cell_type": "markdown",
   "id": "ec1be233-0888-4d05-9f01-b7c17e195ed5",
   "metadata": {},
   "source": [
    "<h3>Data Preparing for ML Prediction</h3>"
   ]
  },
  {
   "cell_type": "code",
   "execution_count": 14,
   "id": "5e18f65a-0230-434f-a103-71db5cad1c58",
   "metadata": {
    "tags": []
   },
   "outputs": [],
   "source": [
    "label_col = [\"pir_value\"]\n",
    "\n",
    "# StringIndexer\n",
    "string_indexer_objs = StringIndexer(inputCol=\"room\",\n",
    "                                    outputCol=\"roomIdx\",\n",
    "                                    handleInvalid='error')"
   ]
  },
  {
   "cell_type": "code",
   "execution_count": 15,
   "id": "ae97d22c-d979-42a9-a542-b61899ac39a4",
   "metadata": {
    "tags": []
   },
   "outputs": [],
   "source": [
    "# One Hot Encoder\n",
    "encoder = OneHotEncoder(inputCols=[\"roomIdx\"],\n",
    "                        outputCols=[\"ohe_col\"],\n",
    "                        handleInvalid='error')"
   ]
  },
  {
   "cell_type": "code",
   "execution_count": 16,
   "id": "f034fdda-7a1e-4b77-a24e-b6933f8cdf79",
   "metadata": {
    "tags": []
   },
   "outputs": [],
   "source": [
    "# Vector Assembler\n",
    "# Vector assembler should not have a target.\n",
    "assembler = VectorAssembler(inputCols=['co2_value', \"temp_value\", \n",
    "                                       \"light_value\", \"humidity_value\", 'ohe_col'],\n",
    "                            outputCol='features',\n",
    "                            handleInvalid='skip')"
   ]
  },
  {
   "cell_type": "markdown",
   "id": "4b047620-0a41-4ee7-80f9-b975846c83a8",
   "metadata": {
    "tags": []
   },
   "source": [
    "<h3>Create Model</h3>"
   ]
  },
  {
   "cell_type": "code",
   "execution_count": 17,
   "id": "e2b5e615-6ee8-4382-a81d-a88f550024b6",
   "metadata": {
    "tags": []
   },
   "outputs": [],
   "source": [
    "# Define classification models\n",
    "logistic_regression = LogisticRegression(labelCol=\"label\", featuresCol=\"features\")\n",
    "decision_tree = DecisionTreeClassifier(labelCol=\"label\", featuresCol=\"features\")\n",
    "naive_bayes = NaiveBayes(labelCol=\"label\", featuresCol=\"features\")\n",
    "random_forest = RandomForestClassifier(labelCol=\"label\", featuresCol=\"features\")"
   ]
  },
  {
   "cell_type": "code",
   "execution_count": 18,
   "id": "91e56d26-de3d-4fb1-b536-cdc584b7fea8",
   "metadata": {
    "tags": []
   },
   "outputs": [],
   "source": [
    "# Pipelines\n",
    "lr_pipeline = Pipeline().setStages([string_indexer_objs, encoder, assembler, logistic_regression])\n",
    "dt_pipeline = Pipeline().setStages([string_indexer_objs, encoder, assembler, decision_tree])\n",
    "nb_pipeline = Pipeline().setStages([string_indexer_objs, encoder, assembler, naive_bayes])\n",
    "rf_pipeline = Pipeline().setStages([string_indexer_objs, encoder, assembler, random_forest])"
   ]
  },
  {
   "cell_type": "code",
   "execution_count": 19,
   "id": "3617bcc7-d7d2-4f47-83a5-8bf2dd93d64e",
   "metadata": {
    "tags": []
   },
   "outputs": [],
   "source": [
    "lr_param_grid = ParamGridBuilder().addGrid(logistic_regression.regParam, [0.01, 0.1]).build()\n",
    "dt_param_grid = ParamGridBuilder().addGrid(decision_tree.maxDepth, [5, 10]).build()\n",
    "rf_param_grid = ParamGridBuilder().addGrid(random_forest.maxDepth, [5, 10]).build()\n",
    "nb_param_grid = ParamGridBuilder().addGrid(naive_bayes.smoothing, [0.1, 1.0]).build()"
   ]
  },
  {
   "cell_type": "markdown",
   "id": "91664d10-f205-428d-b487-dc07bfddbfd8",
   "metadata": {
    "tags": []
   },
   "source": [
    "<h3>Performance Evaluation</h3>"
   ]
  },
  {
   "cell_type": "code",
   "execution_count": 20,
   "id": "da62b95b-8e36-48b4-9a78-ee97c68b4575",
   "metadata": {
    "tags": []
   },
   "outputs": [],
   "source": [
    "cv = CrossValidator(estimatorParamMaps=[lr_param_grid, dt_param_grid, rf_param_grid, nb_param_grid],\n",
    "                          estimator=[lr_pipeline, dt_pipeline, rf_pipeline, nb_pipeline], \n",
    "                          evaluator=BinaryClassificationEvaluator(metricName=\"areaUnderROC\"),\n",
    "                          numFolds=2)"
   ]
  },
  {
   "cell_type": "code",
   "execution_count": 21,
   "id": "0be0d769-6c3d-4907-8eab-6b31c3b1f2e4",
   "metadata": {
    "tags": []
   },
   "outputs": [
    {
     "name": "stdout",
     "output_type": "stream",
     "text": [
      "LogisticRegression_f5d7a6857e8f\n"
     ]
    }
   ],
   "source": [
    "for i in cv.getEstimator():\n",
    "    print(i.getStages()[-1])\n",
    "    break"
   ]
  },
  {
   "cell_type": "code",
   "execution_count": 22,
   "id": "9ed9ec02-2026-42d1-9fb9-8d07f2d91010",
   "metadata": {
    "tags": []
   },
   "outputs": [],
   "source": [
    "accuracies_and_metrics={}\n",
    "cv_models = []"
   ]
  },
  {
   "cell_type": "code",
   "execution_count": 23,
   "id": "288e5212-ab56-4c2e-a0a4-ccb940bea7ae",
   "metadata": {
    "tags": []
   },
   "outputs": [],
   "source": [
    "evaluator = BinaryClassificationEvaluator(labelCol=\"label\")"
   ]
  },
  {
   "cell_type": "code",
   "execution_count": 24,
   "id": "3dbcedca-9043-4149-9331-231e81acc232",
   "metadata": {
    "tags": []
   },
   "outputs": [
    {
     "name": "stdout",
     "output_type": "stream",
     "text": [
      "0.9617059639052632\n",
      "0.9011042666941264\n",
      "0.9574387946853157\n",
      "0.1670487118997026\n"
     ]
    }
   ],
   "source": [
    "# cv = CrossValidator(\n",
    "#     estimator=[lr_pipeline, dt_pipeline, pipeline_obj, nb_pipeline],\n",
    "#     estimatorParamMaps=param_grid,\n",
    "#     evaluator=BinaryClassificationEvaluator(metricName=\"areaUnderROC\"),\n",
    "#     numFolds=5\n",
    "# )\n",
    "for cv in cv.getEstimator():\n",
    "    cv_model = cv.fit(train_df)\n",
    "    cv_models.append(cv_model)\n",
    "    predictions = cv_model.transform(test_df)\n",
    "    accuracy = evaluator.evaluate(predictions)\n",
    "    print(accuracy)\n",
    "    accuracies_and_metrics[f\"accuracy-{cv.getStages()[-1]}\"] = accuracy\n",
    "    accuracies_and_metrics[f\"metric-{cv.getStages()[-1]}\"] = evaluator.getMetricName()"
   ]
  },
  {
   "cell_type": "code",
   "execution_count": 25,
   "id": "79884481-ba36-4ec1-ac9c-b6ef6e3e3cf4",
   "metadata": {
    "tags": []
   },
   "outputs": [
    {
     "data": {
      "text/plain": [
       "{'accuracy-LogisticRegression_f5d7a6857e8f': 0.9617059639052632,\n",
       " 'metric-LogisticRegression_f5d7a6857e8f': 'areaUnderROC',\n",
       " 'accuracy-DecisionTreeClassifier_63b8bdc6a349': 0.9011042666941264,\n",
       " 'metric-DecisionTreeClassifier_63b8bdc6a349': 'areaUnderROC',\n",
       " 'accuracy-RandomForestClassifier_99862de98d21': 0.9574387946853157,\n",
       " 'metric-RandomForestClassifier_99862de98d21': 'areaUnderROC',\n",
       " 'accuracy-NaiveBayes_a70f15c4d390': 0.1670487118997026,\n",
       " 'metric-NaiveBayes_a70f15c4d390': 'areaUnderROC'}"
      ]
     },
     "execution_count": 25,
     "metadata": {},
     "output_type": "execute_result"
    }
   ],
   "source": [
    "accuracies_and_metrics"
   ]
  },
  {
   "cell_type": "code",
   "execution_count": 26,
   "id": "418dbd73-bed1-4d35-a107-e95448736e9a",
   "metadata": {
    "tags": []
   },
   "outputs": [
    {
     "name": "stdout",
     "output_type": "stream",
     "text": [
      "{'aggregationDepth': 2, 'elasticNetParam': 0.0, 'family': 'auto', 'featuresCol': 'features', 'fitIntercept': True, 'labelCol': 'label', 'maxBlockSizeInMB': 0.0, 'maxIter': 100, 'predictionCol': 'prediction', 'probabilityCol': 'probability', 'rawPredictionCol': 'rawPrediction', 'regParam': 0.0, 'standardization': True, 'threshold': 0.5, 'tol': 1e-06}\n",
      "{'cacheNodeIds': False, 'checkpointInterval': 10, 'featuresCol': 'features', 'impurity': 'gini', 'labelCol': 'label', 'leafCol': '', 'maxBins': 32, 'maxDepth': 5, 'maxMemoryInMB': 256, 'minInfoGain': 0.0, 'minInstancesPerNode': 1, 'minWeightFractionPerNode': 0.0, 'predictionCol': 'prediction', 'probabilityCol': 'probability', 'rawPredictionCol': 'rawPrediction', 'seed': -5388977191008616012}\n",
      "{'bootstrap': True, 'cacheNodeIds': False, 'checkpointInterval': 10, 'featureSubsetStrategy': 'auto', 'featuresCol': 'features', 'impurity': 'gini', 'labelCol': 'label', 'leafCol': '', 'maxBins': 32, 'maxDepth': 5, 'maxMemoryInMB': 256, 'minInfoGain': 0.0, 'minInstancesPerNode': 1, 'minWeightFractionPerNode': 0.0, 'numTrees': 20, 'predictionCol': 'prediction', 'probabilityCol': 'probability', 'rawPredictionCol': 'rawPrediction', 'seed': -4060911263088097590, 'subsamplingRate': 1.0}\n",
      "{'featuresCol': 'features', 'labelCol': 'label', 'modelType': 'multinomial', 'predictionCol': 'prediction', 'probabilityCol': 'probability', 'rawPredictionCol': 'rawPrediction', 'smoothing': 1.0}\n"
     ]
    }
   ],
   "source": [
    "for cv in cv_models:\n",
    "    best_parameters = {param.name: value for param, value in zip(cv.stages[-1].extractParamMap().keys(), cv.stages[-1].extractParamMap().values())}\n",
    "    print(best_parameters)"
   ]
  },
  {
   "cell_type": "code",
   "execution_count": 27,
   "id": "efb49c9c-72ec-4456-af2d-6accacc81b51",
   "metadata": {
    "tags": []
   },
   "outputs": [],
   "source": [
    "logistic_regression_final = LogisticRegression()\n",
    "lr_final_pipeline = Pipeline().setStages([string_indexer_objs, encoder, assembler, logistic_regression_final])\n",
    "lr_final_param_grid = ParamGridBuilder().addGrid(logistic_regression_final.regParam, [0.01, 0.1, 1]).build()\n",
    "cv_final = CrossValidator(estimatorParamMaps=lr_final_param_grid, \n",
    "                    estimator=lr_final_pipeline, \n",
    "                    evaluator=BinaryClassificationEvaluator(metricName=\"areaUnderROC\"),\n",
    "                    numFolds=5)"
   ]
  },
  {
   "cell_type": "code",
   "execution_count": 28,
   "id": "3e8ea034-a8e0-4f45-a6f0-f4792545556f",
   "metadata": {
    "tags": []
   },
   "outputs": [],
   "source": [
    "cv_final_model = cv_final.fit(train_df)\n",
    "final_predictions = cv_final_model.transform(test_df)"
   ]
  },
  {
   "cell_type": "code",
   "execution_count": 29,
   "id": "f9eff5e5-0bbc-430a-a0da-b514eb0e5fa7",
   "metadata": {
    "tags": []
   },
   "outputs": [
    {
     "name": "stdout",
     "output_type": "stream",
     "text": [
      "0.9572868752187648\n"
     ]
    },
    {
     "data": {
      "text/plain": [
       "'areaUnderROC'"
      ]
     },
     "execution_count": 29,
     "metadata": {},
     "output_type": "execute_result"
    }
   ],
   "source": [
    "evaluator = BinaryClassificationEvaluator(labelCol=\"label\")\n",
    "\n",
    "accuracy = evaluator.evaluate(final_predictions)\n",
    "print(accuracy)\n",
    "evaluator.getMetricName()"
   ]
  },
  {
   "cell_type": "markdown",
   "id": "4b3197c7-526e-4027-a476-c2d83256451a",
   "metadata": {},
   "source": [
    "<h3>Saving The Model to Disk</h3>"
   ]
  },
  {
   "cell_type": "code",
   "execution_count": 31,
   "id": "5386b8cf-d8d1-446a-95a5-751be32d412e",
   "metadata": {
    "tags": []
   },
   "outputs": [],
   "source": [
    "cv_model.write().overwrite().save('/home/selcuk/bitirme/cv_model/pipeline_model')"
   ]
  },
  {
   "cell_type": "code",
   "execution_count": 32,
   "id": "3534fb26-e85e-482e-9087-d6a6c8dfdc0a",
   "metadata": {
    "tags": []
   },
   "outputs": [],
   "source": [
    "pipeline_model_loaded = PipelineModel.load(\n",
    "    \"/home/selcuk/bitirme/cv_model/pipeline_model\")"
   ]
  },
  {
   "cell_type": "code",
   "execution_count": 33,
   "id": "d18ddd2f-4d6d-47c1-b96d-1dcac8a3aaf0",
   "metadata": {
    "tags": []
   },
   "outputs": [
    {
     "data": {
      "text/plain": [
       "{'featuresCol': 'features',\n",
       " 'labelCol': 'label',\n",
       " 'modelType': 'multinomial',\n",
       " 'predictionCol': 'prediction',\n",
       " 'probabilityCol': 'probability',\n",
       " 'rawPredictionCol': 'rawPrediction',\n",
       " 'smoothing': 1.0}"
      ]
     },
     "execution_count": 33,
     "metadata": {},
     "output_type": "execute_result"
    }
   ],
   "source": [
    "best_parameters = {param.name: value for param, value in zip(pipeline_model_loaded.stages[-1].extractParamMap().keys(), pipeline_model_loaded.stages[-1].extractParamMap().values())}\n",
    "best_parameters"
   ]
  },
  {
   "cell_type": "code",
   "execution_count": null,
   "id": "a9ea93d4-49e9-405c-89d5-db086b9c49df",
   "metadata": {},
   "outputs": [],
   "source": [
    "# # ##### \n",
    "# pipeline_model.write().overwrite().save(\n",
    "#     \"/home/selcuk/bitirme/saved_model2/pipeline_model\")\n",
    "\n",
    "\n",
    "# pipeline_model_loaded = PipelineModel.load(\n",
    "#     \"/home/selcuk/bitirme/saved_model2/pipeline_model\")\n",
    "\n"
   ]
  },
  {
   "cell_type": "code",
   "execution_count": null,
   "id": "86ab4e33-f0e6-4108-ae32-d6fb1e0e7b9e",
   "metadata": {},
   "outputs": [],
   "source": [
    "# test_df.coalesce(1).write \\\n",
    "#     .format(\"csv\") \\\n",
    "#     .mode(\"overwrite\") \\\n",
    "#     .option(\"header\", \"true\") \\\n",
    "#     .save(\"..../test_df\")"
   ]
  }
 ],
 "metadata": {
  "kernelspec": {
   "display_name": "Python 3 (ipykernel)",
   "language": "python",
   "name": "python3"
  },
  "language_info": {
   "codemirror_mode": {
    "name": "ipython",
    "version": 3
   },
   "file_extension": ".py",
   "mimetype": "text/x-python",
   "name": "python",
   "nbconvert_exporter": "python",
   "pygments_lexer": "ipython3",
   "version": "3.10.9"
  }
 },
 "nbformat": 4,
 "nbformat_minor": 5
}
