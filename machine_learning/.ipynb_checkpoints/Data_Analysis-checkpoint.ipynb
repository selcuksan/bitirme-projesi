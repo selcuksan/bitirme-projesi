{
 "cells": [
  {
   "cell_type": "markdown",
   "id": "61cf6428-2153-46b2-868b-37a09116eb82",
   "metadata": {},
   "source": [
    "<h1>Data Analysis</h1>"
   ]
  },
  {
   "cell_type": "code",
   "execution_count": 1,
   "id": "a1b32d54-233d-4c3c-8000-c69c4fb99939",
   "metadata": {
    "tags": []
   },
   "outputs": [],
   "source": [
    "from pyspark.sql import SparkSession, functions as F\n",
    "import pandas as pd\n",
    "import warnings\n",
    "from pyspark.ml.feature import StringIndexer\n",
    "from pyspark.ml.feature import OneHotEncoder\n",
    "from pyspark.ml.feature import VectorAssembler\n",
    "from pyspark.ml.classification import GBTClassifier\n",
    "from pyspark.ml import Pipeline"
   ]
  },
  {
   "cell_type": "code",
   "execution_count": 2,
   "id": "01914631-10e4-44e6-9f09-db40b62fdd37",
   "metadata": {
    "tags": []
   },
   "outputs": [],
   "source": [
    "warnings.simplefilter(action='ignore')\n",
    "\n",
    "# display\n",
    "pd.set_option('display.max_columns', None)\n",
    "pd.set_option('display.max_rows', None)"
   ]
  },
  {
   "cell_type": "code",
   "execution_count": 3,
   "id": "891838f4-1dc2-4637-9d5a-c27d70cb4893",
   "metadata": {
    "tags": []
   },
   "outputs": [],
   "source": [
    "spark = SparkSession.builder \\\n",
    "    .appName(\"sensors_realtime_prediction\") \\\n",
    "    .master(\"local[2]\") \\\n",
    "    .enableHiveSupport() \\\n",
    "    .getOrCreate()\n",
    "\n",
    "spark.sparkContext.setLogLevel('ERROR')"
   ]
  },
  {
   "cell_type": "code",
   "execution_count": 4,
   "id": "ff22f184-47af-4547-a613-bb9bab9a1905",
   "metadata": {
    "tags": []
   },
   "outputs": [
    {
     "name": "stdout",
     "output_type": "stream",
     "text": [
      "+-------------------+------+----+------+\n",
      "|time               |value |room|sensor|\n",
      "+-------------------+------+----+------+\n",
      "|2013-08-23 23:05:03|2287.0|668 |light |\n",
      "|2013-08-23 23:05:05|1977.0|668 |light |\n",
      "|2013-08-23 23:05:26|2208.0|668 |light |\n",
      "|2013-08-23 23:05:30|2267.0|668 |light |\n",
      "|2013-08-23 23:05:33|2097.0|668 |light |\n",
      "|2013-08-23 23:05:38|2111.0|668 |light |\n",
      "|2013-08-23 23:05:43|2257.0|668 |light |\n",
      "|2013-08-23 23:05:48|2200.0|668 |light |\n",
      "|2013-08-23 23:05:53|2164.0|668 |light |\n",
      "|2013-08-23 23:05:58|2183.0|668 |light |\n",
      "+-------------------+------+----+------+\n",
      "only showing top 10 rows\n",
      "\n"
     ]
    },
    {
     "data": {
      "text/plain": [
       "DataFrame[time: timestamp, value: double, room: string, sensor: string]"
      ]
     },
     "execution_count": 4,
     "metadata": {},
     "output_type": "execute_result"
    }
   ],
   "source": [
    "df = spark.read.format(\"csv\") \\\n",
    "    .option(\"header\", False) \\\n",
    "    .option(\"inferSchema\", True) \\\n",
    "    .option(\"sep\", \",\") \\\n",
    "    .load(\"/home/selcuk/spark/bitirme-projesi/KETI/*/*.csv\") \\\n",
    "    .withColumn(\"file_name\", F.input_file_name()) \\\n",
    "    .withColumn(\"_c0\", F.to_timestamp(\"_c0\")) \\\n",
    "    .withColumn(\"room\", F.element_at(F.reverse(F.split(F.col(\"file_name\"), \"/\")), 2)) \\\n",
    "    .withColumn(\"sensor\", F.regexp_replace(F.element_at(F.reverse(F.split(F.col(\"file_name\"), \"/\")), 1), \".csv\", \"\")) \\\n",
    "    .withColumnRenamed(\"_c0\", \"time\") \\\n",
    "    .withColumnRenamed(\"_c1\", \"value\") \\\n",
    "    .drop(\"file_name\")\n",
    "\n",
    "df.show(n=10, truncate=False)\n",
    "df.cache()"
   ]
  },
  {
   "cell_type": "code",
   "execution_count": 5,
   "id": "e7e38fa0-a8a5-4077-bde3-d293bd56e245",
   "metadata": {
    "tags": []
   },
   "outputs": [
    {
     "name": "stdout",
     "output_type": "stream",
     "text": [
      "root\n",
      " |-- time: timestamp (nullable = true)\n",
      " |-- value: double (nullable = true)\n",
      " |-- room: string (nullable = true)\n",
      " |-- sensor: string (nullable = true)\n",
      "\n"
     ]
    }
   ],
   "source": [
    "df.printSchema()"
   ]
  },
  {
   "cell_type": "code",
   "execution_count": 6,
   "id": "acdecaee-48de-47ee-bde1-b3a3c8454bc1",
   "metadata": {
    "tags": []
   },
   "outputs": [
    {
     "name": "stdout",
     "output_type": "stream",
     "text": [
      "29882394\n"
     ]
    }
   ],
   "source": [
    "# Veri Adedi\n",
    "print(df.count())"
   ]
  },
  {
   "cell_type": "code",
   "execution_count": 7,
   "id": "6980cbbd-6e13-4278-8f2e-387741a8576a",
   "metadata": {
    "tags": []
   },
   "outputs": [
    {
     "name": "stdout",
     "output_type": "stream",
     "text": [
      "+-----------+-------+\n",
      "|     sensor|   room|\n",
      "+-----------+-------+\n",
      "|      light|6571463|\n",
      "|        co2|6574008|\n",
      "|   humidity|6571465|\n",
      "|temperature|6571505|\n",
      "|        pir|3593953|\n",
      "+-----------+-------+\n",
      "\n"
     ]
    }
   ],
   "source": [
    "df.select(\"sensor\", \"room\").groupBy(\"sensor\").agg(F.count('room').alias(\"room\")).show()"
   ]
  },
  {
   "cell_type": "code",
   "execution_count": 8,
   "id": "0ce164a8-181e-4cb5-aecb-e5bb0024fa7b",
   "metadata": {
    "tags": []
   },
   "outputs": [
    {
     "name": "stdout",
     "output_type": "stream",
     "text": [
      "+-----------+-----------+\n",
      "|     sensor|count(room)|\n",
      "+-----------+-----------+\n",
      "|      light|    6571463|\n",
      "|        co2|    6574008|\n",
      "|   humidity|    6571465|\n",
      "|temperature|    6571505|\n",
      "|        pir|    3593953|\n",
      "+-----------+-----------+\n",
      "\n"
     ]
    }
   ],
   "source": [
    "df.select(\"sensor\",\"room\").groupBy(\"sensor\").agg(F.count(\"room\")).show()"
   ]
  },
  {
   "cell_type": "code",
   "execution_count": 9,
   "id": "ffdbe4e4-bac3-4868-b8db-a35d66110dbf",
   "metadata": {
    "tags": []
   },
   "outputs": [
    {
     "name": "stdout",
     "output_type": "stream",
     "text": [
      "+-------------------+-------------------+\n",
      "|          min(time)|          max(time)|\n",
      "+-------------------+-------------------+\n",
      "|2013-08-23 15:00:00|2013-09-01 06:58:59|\n",
      "+-------------------+-------------------+\n",
      "\n"
     ]
    }
   ],
   "source": [
    "df.select(F.min(\"time\"), F.max(\"time\")).show(2)"
   ]
  },
  {
   "cell_type": "code",
   "execution_count": 10,
   "id": "95f883f0-d5b6-43f2-89a2-649e29707342",
   "metadata": {
    "tags": []
   },
   "outputs": [
    {
     "name": "stdout",
     "output_type": "stream",
     "text": [
      "51\n"
     ]
    }
   ],
   "source": [
    "print(df.select(\"room\").distinct().count())\n",
    "# 51"
   ]
  },
  {
   "cell_type": "code",
   "execution_count": 11,
   "id": "b73e6040-5dcf-43a2-ba3c-5e57f029833e",
   "metadata": {
    "tags": []
   },
   "outputs": [
    {
     "name": "stdout",
     "output_type": "stream",
     "text": [
      "5\n"
     ]
    }
   ],
   "source": [
    "print(df.select(\"sensor\").distinct().count())"
   ]
  },
  {
   "cell_type": "code",
   "execution_count": 10,
   "id": "2a5678d1-3ed1-418e-a85e-df05da8680c6",
   "metadata": {
    "tags": []
   },
   "outputs": [],
   "source": []
  },
  {
   "cell_type": "code",
   "execution_count": 13,
   "id": "f2f84757-7a66-4452-99a3-aacc318403a7",
   "metadata": {
    "tags": []
   },
   "outputs": [],
   "source": []
  },
  {
   "cell_type": "code",
   "execution_count": null,
   "id": "c3d17868-4917-446b-b0f5-fd9c332de8fc",
   "metadata": {},
   "outputs": [],
   "source": []
  }
 ],
 "metadata": {
  "kernelspec": {
   "display_name": "Python 3 (ipykernel)",
   "language": "python",
   "name": "python3"
  },
  "language_info": {
   "codemirror_mode": {
    "name": "ipython",
    "version": 3
   },
   "file_extension": ".py",
   "mimetype": "text/x-python",
   "name": "python",
   "nbconvert_exporter": "python",
   "pygments_lexer": "ipython3",
   "version": "3.10.9"
  }
 },
 "nbformat": 4,
 "nbformat_minor": 5
}
