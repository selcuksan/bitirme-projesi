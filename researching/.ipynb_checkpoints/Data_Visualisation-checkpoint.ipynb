{
 "cells": [
  {
   "cell_type": "code",
   "execution_count": 2,
   "id": "9641c6e5-bbbd-4bf6-9217-581e282949e4",
   "metadata": {
    "tags": []
   },
   "outputs": [],
   "source": [
    "import sys\n",
    "import pandas as pd\n",
    "import matplotlib.pyplot as plt\n",
    "sys.path.append(r'/home/selcuk/bitirme/')\n",
    "\n",
    "from helpers.eda_helper import *\n",
    "from helpers.dataPreprocessing_helper import *\n",
    "from helpers.modelValidation_helper import *"
   ]
  },
  {
   "cell_type": "code",
   "execution_count": null,
   "id": "6627bd7d-aba8-4351-a2ae-d89b6e5f5c36",
   "metadata": {},
   "outputs": [],
   "source": [
    "df = pd.read_csv(\"../test_df/sensor-data.csv\")\n",
    "check_df(df)\n",
    "cat_cols, num_cols, cat_but_car = grab_col_names(df, cat_th=10, car_th=100)\n",
    "\n",
    "plt.figure(figsize=(10, 10))\n",
    "################################################\n",
    "# 1. EDA\n",
    "################################################\n",
    "\n",
    "# Kategorik değişken analizi\n",
    "for col in cat_cols:\n",
    "    cat_summary(df, col, False)\n",
    "\n",
    "\n",
    "# Sayisal değişken analizi\n",
    "for col in num_cols:\n",
    "    num_summary(df, col, True)\n",
    "\n",
    "# Sayisal Değişkenlerin birbiri ile korelasyonu\n",
    "correlation_matrix(df, num_cols)\n",
    "\n",
    "\n",
    "# Target ile sayısal değişkenlerin ilişkisinin analizi\n",
    "for col in num_cols:\n",
    "    target_summary_with_num(df, \"y\", col, target_type=\"cat\")\n",
    "\n",
    "# Target ile kategorik değişkenlerin ilişkisinin analizi\n",
    "for col in cat_cols:\n",
    "    target_summary_with_cat(df, \"y\", col, target_type=\"cat\")\n",
    "\n",
    "\n",
    "################################################\n",
    "# 2. Data Preprocessing & Feature Engineering\n",
    "################################################\n",
    "# Değişkenlerin tipi\n",
    "df.info()\n",
    "\n",
    "df.isnull().sum()\n",
    "\n",
    "cat_cols, num_cols, cat_but_car = grab_col_names(df, cat_th=10, car_th=20)\n",
    "for col in num_cols:\n",
    "    print(col, check_outlier(df, col, q1=0.01, q3=0.99))\n",
    "\n",
    "# Aykırı değerlerin tek değişkenli olarak yakalanması\n",
    "for col in num_cols:\n",
    "    grab_outliers(df, col, index=True, plot=True)\n",
    "\n",
    "# Aykırı değerlerin baskılanması\n",
    "for col in num_cols:\n",
    "    replace_with_thresholds(df, col)\n",
    "    \n",
    "# Aykırı değerlerin çok değişkenli olarak yakalanması ve silinmesi\n",
    "local_outliers = local_outlier_factor(df, num_cols, plot=False)\n",
    "df = df.loc[~df.index.isin(local_outliers)]"
   ]
  }
 ],
 "metadata": {
  "kernelspec": {
   "display_name": "Python 3 (ipykernel)",
   "language": "python",
   "name": "python3"
  },
  "language_info": {
   "codemirror_mode": {
    "name": "ipython",
    "version": 3
   },
   "file_extension": ".py",
   "mimetype": "text/x-python",
   "name": "python",
   "nbconvert_exporter": "python",
   "pygments_lexer": "ipython3",
   "version": "3.10.9"
  }
 },
 "nbformat": 4,
 "nbformat_minor": 5
}
