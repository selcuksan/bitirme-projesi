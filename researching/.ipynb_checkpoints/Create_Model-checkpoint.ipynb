{
 "cells": [
  {
   "cell_type": "code",
   "execution_count": 36,
   "id": "50d2acf4-42fd-432a-962c-5b446bc3197d",
   "metadata": {
    "tags": []
   },
   "outputs": [],
   "source": [
    "from pyspark.sql import SparkSession, functions as F\n",
    "import pandas as pd\n",
    "import warnings\n",
    "from pyspark.ml.feature import StringIndexer\n",
    "from pyspark.ml.feature import OneHotEncoder\n",
    "from pyspark.ml.feature import VectorAssembler\n",
    "from pyspark.ml.classification import GBTClassifier\n",
    "from pyspark.ml import Pipeline\n",
    "from pyspark.ml.tuning import CrossValidator, ParamGridBuilder\n",
    "from pyspark.sql.functions import rand\n",
    "from pyspark.ml.evaluation import BinaryClassificationEvaluator\n",
    "from pyspark.ml.pipeline import PipelineModel"
   ]
  },
  {
   "cell_type": "code",
   "execution_count": 2,
   "id": "05b91a7f-7478-4d63-b264-3de1550a481c",
   "metadata": {
    "tags": []
   },
   "outputs": [],
   "source": [
    "warnings.simplefilter(action='ignore')\n",
    "\n",
    "# display\n",
    "pd.set_option('display.max_columns', None)\n",
    "pd.set_option('display.max_rows', None)"
   ]
  },
  {
   "cell_type": "markdown",
   "id": "7981af0b-a3cd-4ded-a0af-07f33896105d",
   "metadata": {},
   "source": [
    "## Spark Session"
   ]
  },
  {
   "cell_type": "code",
   "execution_count": 3,
   "id": "0934a9cb-b872-4401-9cb8-a2bd6e1bf235",
   "metadata": {
    "tags": []
   },
   "outputs": [],
   "source": [
    "spark = SparkSession.builder \\\n",
    "    .appName(\"sensors_realtime_prediction\") \\\n",
    "    .master(\"local[2]\") \\\n",
    "    .enableHiveSupport() \\\n",
    "    .getOrCreate()\n",
    "\n",
    "spark.sparkContext.setLogLevel('ERROR')"
   ]
  },
  {
   "cell_type": "code",
   "execution_count": 4,
   "id": "9182f50a-2f3a-45fb-87c6-682b047c3fe4",
   "metadata": {
    "tags": []
   },
   "outputs": [],
   "source": [
    "pandasDF = pd.read_csv(\"../test_df/sensor-data.csv\")"
   ]
  },
  {
   "cell_type": "code",
   "execution_count": 5,
   "id": "88cf9aa1-38dc-4427-a74d-d400667de4a1",
   "metadata": {
    "tags": []
   },
   "outputs": [
    {
     "data": {
      "text/plain": [
       "0    126289\n",
       "1      9097\n",
       "Name: label, dtype: int64"
      ]
     },
     "execution_count": 5,
     "metadata": {},
     "output_type": "execute_result"
    }
   ],
   "source": [
    "pandasDF[\"label\"].value_counts()"
   ]
  },
  {
   "cell_type": "code",
   "execution_count": 6,
   "id": "4f708aaa-3273-4796-849b-e81acd61b3a2",
   "metadata": {
    "tags": []
   },
   "outputs": [],
   "source": [
    "df_0 = pandasDF.loc[pandasDF[\"label\"] == 0].sample(50000)\n",
    "df_1 = pandasDF.loc[pandasDF[\"label\"] == 1].sample(9097)\n",
    "df_sampled = pd.concat([df_0, df_1], axis=0)"
   ]
  },
  {
   "cell_type": "code",
   "execution_count": 7,
   "id": "78a0df0a-00ea-4c78-a595-6ea31454f47b",
   "metadata": {
    "tags": []
   },
   "outputs": [],
   "source": [
    "df_sampled = df_sampled.sort_values(by=['time'])"
   ]
  },
  {
   "cell_type": "code",
   "execution_count": 8,
   "id": "deb10354-5400-4a90-a842-31aeed4c80ed",
   "metadata": {
    "tags": []
   },
   "outputs": [
    {
     "data": {
      "text/plain": [
       "0    50000\n",
       "1     9097\n",
       "Name: label, dtype: int64"
      ]
     },
     "execution_count": 8,
     "metadata": {},
     "output_type": "execute_result"
    }
   ],
   "source": [
    "df_sampled[\"label\"].value_counts()"
   ]
  },
  {
   "cell_type": "code",
   "execution_count": 9,
   "id": "af07ed67-2e7a-4637-8a81-7ec5e87219c0",
   "metadata": {
    "tags": []
   },
   "outputs": [
    {
     "data": {
      "text/html": [
       "<div>\n",
       "<style scoped>\n",
       "    .dataframe tbody tr th:only-of-type {\n",
       "        vertical-align: middle;\n",
       "    }\n",
       "\n",
       "    .dataframe tbody tr th {\n",
       "        vertical-align: top;\n",
       "    }\n",
       "\n",
       "    .dataframe thead th {\n",
       "        text-align: right;\n",
       "    }\n",
       "</style>\n",
       "<table border=\"1\" class=\"dataframe\">\n",
       "  <thead>\n",
       "    <tr style=\"text-align: right;\">\n",
       "      <th></th>\n",
       "      <th>co2_value</th>\n",
       "      <th>temp_value</th>\n",
       "      <th>light_value</th>\n",
       "      <th>humidity_value</th>\n",
       "      <th>time</th>\n",
       "      <th>room</th>\n",
       "      <th>label</th>\n",
       "    </tr>\n",
       "  </thead>\n",
       "  <tbody>\n",
       "    <tr>\n",
       "      <th>2</th>\n",
       "      <td>465.0</td>\n",
       "      <td>22.80</td>\n",
       "      <td>165.0</td>\n",
       "      <td>52.40</td>\n",
       "      <td>2013-08-23 23:04:57</td>\n",
       "      <td>644</td>\n",
       "      <td>0</td>\n",
       "    </tr>\n",
       "    <tr>\n",
       "      <th>1</th>\n",
       "      <td>579.0</td>\n",
       "      <td>24.37</td>\n",
       "      <td>176.0</td>\n",
       "      <td>49.90</td>\n",
       "      <td>2013-08-23 23:04:57</td>\n",
       "      <td>656A</td>\n",
       "      <td>1</td>\n",
       "    </tr>\n",
       "    <tr>\n",
       "      <th>4</th>\n",
       "      <td>434.0</td>\n",
       "      <td>24.08</td>\n",
       "      <td>11.0</td>\n",
       "      <td>49.94</td>\n",
       "      <td>2013-08-23 23:05:01</td>\n",
       "      <td>564</td>\n",
       "      <td>1</td>\n",
       "    </tr>\n",
       "  </tbody>\n",
       "</table>\n",
       "</div>"
      ],
      "text/plain": [
       "   co2_value  temp_value  light_value  humidity_value                 time  \\\n",
       "2      465.0       22.80        165.0           52.40  2013-08-23 23:04:57   \n",
       "1      579.0       24.37        176.0           49.90  2013-08-23 23:04:57   \n",
       "4      434.0       24.08         11.0           49.94  2013-08-23 23:05:01   \n",
       "\n",
       "   room  label  \n",
       "2   644      0  \n",
       "1  656A      1  \n",
       "4   564      1  "
      ]
     },
     "execution_count": 9,
     "metadata": {},
     "output_type": "execute_result"
    }
   ],
   "source": [
    "df_sampled.head(3)"
   ]
  },
  {
   "cell_type": "code",
   "execution_count": 10,
   "id": "0864f865-99d7-431d-a56f-d9b386410ed2",
   "metadata": {
    "tags": []
   },
   "outputs": [],
   "source": [
    "# df_sampled.to_csv(\"test-data-sampled.csv\",index=False)"
   ]
  },
  {
   "cell_type": "code",
   "execution_count": 11,
   "id": "8983e3cb-d779-4085-8737-8a7df5f4b387",
   "metadata": {
    "tags": []
   },
   "outputs": [],
   "source": [
    "from sklearn.model_selection import train_test_split\n",
    "\n",
    "train, test = train_test_split(df_sampled, test_size=0.2)"
   ]
  },
  {
   "cell_type": "code",
   "execution_count": 12,
   "id": "886f992a-6cd4-4d6e-a39d-fd8f97a5a287",
   "metadata": {
    "tags": []
   },
   "outputs": [
    {
     "name": "stdout",
     "output_type": "stream",
     "text": [
      "0    40009\n",
      "1     7268\n",
      "Name: label, dtype: int64\n",
      "0    9991\n",
      "1    1829\n",
      "Name: label, dtype: int64\n"
     ]
    }
   ],
   "source": [
    "print(train[\"label\"].value_counts())\n",
    "print(test[\"label\"].value_counts())"
   ]
  },
  {
   "cell_type": "code",
   "execution_count": 13,
   "id": "79a0b5cc-7876-4bbb-a2ac-0560a794d0e9",
   "metadata": {
    "tags": []
   },
   "outputs": [],
   "source": [
    "test_df = spark.createDataFrame(test)\n",
    "train_df = spark.createDataFrame(train)"
   ]
  },
  {
   "cell_type": "markdown",
   "id": "ec1be233-0888-4d05-9f01-b7c17e195ed5",
   "metadata": {},
   "source": [
    "<h3>Data Preparing for ML Prediction</h3>"
   ]
  },
  {
   "cell_type": "code",
   "execution_count": 14,
   "id": "5e18f65a-0230-434f-a103-71db5cad1c58",
   "metadata": {
    "tags": []
   },
   "outputs": [],
   "source": [
    "label_col = [\"pir_value\"]\n",
    "\n",
    "# The Room variable contains 51 categories, so it must go through the stringindexer and one-hot-encoder stages.\n",
    "\n",
    "# StringIndexer\n",
    "string_indexer_objs = StringIndexer(inputCol=\"room\",\n",
    "                                    outputCol=\"roomIdx\",\n",
    "                                    handleInvalid='error')"
   ]
  },
  {
   "cell_type": "code",
   "execution_count": 15,
   "id": "ae97d22c-d979-42a9-a542-b61899ac39a4",
   "metadata": {
    "tags": []
   },
   "outputs": [],
   "source": [
    "# One Hot Encoder\n",
    "encoder = OneHotEncoder(inputCols=[\"roomIdx\"],\n",
    "                        outputCols=[\"ohe_col\"],\n",
    "                        handleInvalid='error')"
   ]
  },
  {
   "cell_type": "code",
   "execution_count": 16,
   "id": "f034fdda-7a1e-4b77-a24e-b6933f8cdf79",
   "metadata": {
    "tags": []
   },
   "outputs": [],
   "source": [
    "# Vector Assembler\n",
    "# Vector assembler should not have a target.\n",
    "assembler = VectorAssembler(inputCols=['co2_value', \"temp_value\", \"light_value\", \"humidity_value\", 'ohe_col'],\n",
    "                            outputCol='features',\n",
    "                            handleInvalid='skip')"
   ]
  },
  {
   "cell_type": "markdown",
   "id": "4b047620-0a41-4ee7-80f9-b975846c83a8",
   "metadata": {},
   "source": [
    "<h3>Create Model</h3>"
   ]
  },
  {
   "cell_type": "code",
   "execution_count": 17,
   "id": "523417a0-e66e-451f-baf0-8525d5fff499",
   "metadata": {
    "tags": []
   },
   "outputs": [],
   "source": [
    "from pyspark.ml.classification import RandomForestClassifier\n",
    "estimator = RandomForestClassifier(labelCol=\"label\", featuresCol=\"features\", numTrees=50)\n",
    "\n",
    "#train_df, test_df = df_last.randomSplit([.8, .2], seed=142)"
   ]
  },
  {
   "cell_type": "code",
   "execution_count": 18,
   "id": "94cab912-b090-4aa4-b092-84d6690be0cd",
   "metadata": {
    "tags": []
   },
   "outputs": [],
   "source": [
    "# Pipeline\n",
    "pipeline_obj = Pipeline().setStages([string_indexer_objs, encoder, assembler, estimator])\n",
    "# pipeline_model = pipeline_obj.fit(train_df)\n",
    "# transformed_df = pipeline_model.transform(test_df)"
   ]
  },
  {
   "cell_type": "code",
   "execution_count": 19,
   "id": "ec5cf508-e261-46e5-aa49-28afb1a32a1c",
   "metadata": {
    "tags": []
   },
   "outputs": [],
   "source": [
    "param_grid = ParamGridBuilder() \\\n",
    "    .addGrid(estimator.maxDepth, [10, 15, 25]) \\\n",
    "    .addGrid(estimator.numTrees, [10, 15, 25]) \\\n",
    "    .build()"
   ]
  },
  {
   "cell_type": "markdown",
   "id": "91664d10-f205-428d-b487-dc07bfddbfd8",
   "metadata": {
    "tags": []
   },
   "source": [
    "<h3>Performance Evaluation</h3>"
   ]
  },
  {
   "cell_type": "code",
   "execution_count": 20,
   "id": "3dbcedca-9043-4149-9331-231e81acc232",
   "metadata": {
    "tags": []
   },
   "outputs": [],
   "source": [
    "cv = CrossValidator(\n",
    "    estimator=pipeline_obj,\n",
    "    estimatorParamMaps=param_grid,\n",
    "    evaluator=BinaryClassificationEvaluator(metricName=\"areaUnderROC\"),\n",
    "    numFolds=5\n",
    ")\n",
    "\n",
    "cv_model = cv.fit(train_df)\n",
    "\n",
    "predictions = cv_model.transform(test_df)\n",
    "evaluator = BinaryClassificationEvaluator(labelCol=\"label\")"
   ]
  },
  {
   "cell_type": "code",
   "execution_count": 21,
   "id": "418dbd73-bed1-4d35-a107-e95448736e9a",
   "metadata": {
    "tags": []
   },
   "outputs": [
    {
     "data": {
      "text/plain": [
       "{'bootstrap': True,\n",
       " 'cacheNodeIds': False,\n",
       " 'checkpointInterval': 10,\n",
       " 'featureSubsetStrategy': 'auto',\n",
       " 'featuresCol': 'features',\n",
       " 'impurity': 'gini',\n",
       " 'labelCol': 'label',\n",
       " 'leafCol': '',\n",
       " 'maxBins': 32,\n",
       " 'maxDepth': 25,\n",
       " 'maxMemoryInMB': 256,\n",
       " 'minInfoGain': 0.0,\n",
       " 'minInstancesPerNode': 1,\n",
       " 'minWeightFractionPerNode': 0.0,\n",
       " 'numTrees': 25,\n",
       " 'predictionCol': 'prediction',\n",
       " 'probabilityCol': 'probability',\n",
       " 'rawPredictionCol': 'rawPrediction',\n",
       " 'seed': 2693163115266358200,\n",
       " 'subsamplingRate': 1.0}"
      ]
     },
     "execution_count": 21,
     "metadata": {},
     "output_type": "execute_result"
    }
   ],
   "source": [
    "best_parameters = {param.name: value for param, value in zip(cv_model.bestModel.stages[-1].extractParamMap().keys(), cv_model.bestModel.stages[-1].extractParamMap().values())}\n",
    "best_parameters"
   ]
  },
  {
   "cell_type": "code",
   "execution_count": 23,
   "id": "0c23a996-0bb7-4ad5-9652-1b2502143aed",
   "metadata": {
    "tags": []
   },
   "outputs": [
    {
     "name": "stdout",
     "output_type": "stream",
     "text": [
      "0.9926513413739947\n"
     ]
    },
    {
     "data": {
      "text/plain": [
       "'areaUnderROC'"
      ]
     },
     "execution_count": 23,
     "metadata": {},
     "output_type": "execute_result"
    }
   ],
   "source": [
    "accuracy = evaluator.evaluate(predictions)\n",
    "\n",
    "print(accuracy)\n",
    "# Prediction\n",
    "# 0.9483103977867051\n",
    "\n",
    "evaluator.getMetricName()"
   ]
  },
  {
   "cell_type": "markdown",
   "id": "4b3197c7-526e-4027-a476-c2d83256451a",
   "metadata": {},
   "source": [
    "<h3>Saving The Model to Disk</h3>"
   ]
  },
  {
   "cell_type": "code",
   "execution_count": 38,
   "id": "5386b8cf-d8d1-446a-95a5-751be32d412e",
   "metadata": {
    "tags": []
   },
   "outputs": [],
   "source": [
    "cv_model.bestModel.write().overwrite().save('/home/selcuk/bitirme/cv_model/pipeline_model')"
   ]
  },
  {
   "cell_type": "code",
   "execution_count": 42,
   "id": "3534fb26-e85e-482e-9087-d6a6c8dfdc0a",
   "metadata": {
    "tags": []
   },
   "outputs": [
    {
     "data": {
      "text/plain": [
       "<bound method Params.extractParamMap of RandomForestClassificationModel: uid=RandomForestClassifier_217eb792b48f, numTrees=25, numClasses=2, numFeatures=54>"
      ]
     },
     "execution_count": 42,
     "metadata": {},
     "output_type": "execute_result"
    }
   ],
   "source": [
    "pipeline_model_loaded = PipelineModel.load(\n",
    "    \"/home/selcuk/bitirme/cv_model/pipeline_model\")"
   ]
  },
  {
   "cell_type": "code",
   "execution_count": 44,
   "id": "d18ddd2f-4d6d-47c1-b96d-1dcac8a3aaf0",
   "metadata": {
    "tags": []
   },
   "outputs": [
    {
     "data": {
      "text/plain": [
       "{'bootstrap': True,\n",
       " 'cacheNodeIds': False,\n",
       " 'checkpointInterval': 10,\n",
       " 'featureSubsetStrategy': 'auto',\n",
       " 'featuresCol': 'features',\n",
       " 'impurity': 'gini',\n",
       " 'labelCol': 'label',\n",
       " 'leafCol': '',\n",
       " 'maxBins': 32,\n",
       " 'maxDepth': 25,\n",
       " 'maxMemoryInMB': 256,\n",
       " 'minInfoGain': 0.0,\n",
       " 'minInstancesPerNode': 1,\n",
       " 'minWeightFractionPerNode': 0.0,\n",
       " 'numTrees': 25,\n",
       " 'predictionCol': 'prediction',\n",
       " 'probabilityCol': 'probability',\n",
       " 'rawPredictionCol': 'rawPrediction',\n",
       " 'seed': 2892013887635323293,\n",
       " 'subsamplingRate': 1.0}"
      ]
     },
     "execution_count": 44,
     "metadata": {},
     "output_type": "execute_result"
    }
   ],
   "source": [
    "best_parameters = {param.name: value for param, value in zip(pipeline_model_loaded.stages[-1].extractParamMap().keys(), pipeline_model_loaded.stages[-1].extractParamMap().values())}\n",
    "best_parameters"
   ]
  },
  {
   "cell_type": "code",
   "execution_count": null,
   "id": "a9ea93d4-49e9-405c-89d5-db086b9c49df",
   "metadata": {},
   "outputs": [],
   "source": [
    "# # ##### \n",
    "# pipeline_model.write().overwrite().save(\n",
    "#     \"/home/selcuk/bitirme/saved_model2/pipeline_model\")\n",
    "\n",
    "\n",
    "# pipeline_model_loaded = PipelineModel.load(\n",
    "#     \"/home/selcuk/bitirme/saved_model2/pipeline_model\")\n",
    "\n"
   ]
  },
  {
   "cell_type": "code",
   "execution_count": null,
   "id": "86ab4e33-f0e6-4108-ae32-d6fb1e0e7b9e",
   "metadata": {},
   "outputs": [],
   "source": [
    "# test_df.coalesce(1).write \\\n",
    "#     .format(\"csv\") \\\n",
    "#     .mode(\"overwrite\") \\\n",
    "#     .option(\"header\", \"true\") \\\n",
    "#     .save(\"..../test_df\")"
   ]
  }
 ],
 "metadata": {
  "kernelspec": {
   "display_name": "Python 3 (ipykernel)",
   "language": "python",
   "name": "python3"
  },
  "language_info": {
   "codemirror_mode": {
    "name": "ipython",
    "version": 3
   },
   "file_extension": ".py",
   "mimetype": "text/x-python",
   "name": "python",
   "nbconvert_exporter": "python",
   "pygments_lexer": "ipython3",
   "version": "3.10.9"
  }
 },
 "nbformat": 4,
 "nbformat_minor": 5
}
