{
 "cells": [
  {
   "cell_type": "code",
   "execution_count": 12,
   "id": "50d2acf4-42fd-432a-962c-5b446bc3197d",
   "metadata": {
    "tags": []
   },
   "outputs": [],
   "source": [
    "from pyspark.sql import SparkSession, functions as F\n",
    "import pandas as pd\n",
    "import warnings\n",
    "from pyspark.ml.feature import StringIndexer\n",
    "from pyspark.ml.feature import OneHotEncoder\n",
    "from pyspark.ml.feature import VectorAssembler\n",
    "from pyspark.ml.classification import GBTClassifier\n",
    "from pyspark.ml import Pipeline"
   ]
  },
  {
   "cell_type": "code",
   "execution_count": 13,
   "id": "05b91a7f-7478-4d63-b264-3de1550a481c",
   "metadata": {
    "tags": []
   },
   "outputs": [],
   "source": [
    "warnings.simplefilter(action='ignore')\n",
    "\n",
    "# display\n",
    "pd.set_option('display.max_columns', None)\n",
    "pd.set_option('display.max_rows', None)"
   ]
  },
  {
   "cell_type": "code",
   "execution_count": 14,
   "id": "0934a9cb-b872-4401-9cb8-a2bd6e1bf235",
   "metadata": {
    "tags": []
   },
   "outputs": [],
   "source": [
    "spark = SparkSession.builder \\\n",
    "    .appName(\"sensors_realtime_prediction\") \\\n",
    "    .master(\"local[2]\") \\\n",
    "    .enableHiveSupport() \\\n",
    "    .getOrCreate()\n",
    "\n",
    "spark.sparkContext.setLogLevel('ERROR')"
   ]
  },
  {
   "cell_type": "code",
   "execution_count": 28,
   "id": "9182f50a-2f3a-45fb-87c6-682b047c3fe4",
   "metadata": {
    "tags": []
   },
   "outputs": [],
   "source": [
    "pandasDF = pd.read_csv(\"sensor-data.csv\")"
   ]
  },
  {
   "cell_type": "code",
   "execution_count": 29,
   "id": "88cf9aa1-38dc-4427-a74d-d400667de4a1",
   "metadata": {
    "tags": []
   },
   "outputs": [
    {
     "data": {
      "text/plain": [
       "0    126289\n",
       "1      9097\n",
       "Name: label, dtype: int64"
      ]
     },
     "execution_count": 29,
     "metadata": {},
     "output_type": "execute_result"
    }
   ],
   "source": [
    "pandasDF[\"label\"].value_counts()"
   ]
  },
  {
   "cell_type": "code",
   "execution_count": 30,
   "id": "4f708aaa-3273-4796-849b-e81acd61b3a2",
   "metadata": {
    "tags": []
   },
   "outputs": [],
   "source": [
    "df_0 = pandasDF.loc[pandasDF[\"label\"] == 0].sample(50000)\n",
    "df_1 = pandasDF.loc[pandasDF[\"label\"] == 1].sample(9097)\n",
    "df_sampled = pd.concat([df_0, df_1], axis=0)"
   ]
  },
  {
   "cell_type": "code",
   "execution_count": 31,
   "id": "78a0df0a-00ea-4c78-a595-6ea31454f47b",
   "metadata": {
    "tags": []
   },
   "outputs": [],
   "source": [
    "df_sampled = df_sampled.sort_values(by=['time'])"
   ]
  },
  {
   "cell_type": "code",
   "execution_count": 32,
   "id": "deb10354-5400-4a90-a842-31aeed4c80ed",
   "metadata": {
    "tags": []
   },
   "outputs": [
    {
     "data": {
      "text/plain": [
       "0    50000\n",
       "1     9097\n",
       "Name: label, dtype: int64"
      ]
     },
     "execution_count": 32,
     "metadata": {},
     "output_type": "execute_result"
    }
   ],
   "source": [
    "df_sampled[\"label\"].value_counts()"
   ]
  },
  {
   "cell_type": "code",
   "execution_count": 33,
   "id": "af07ed67-2e7a-4637-8a81-7ec5e87219c0",
   "metadata": {
    "tags": []
   },
   "outputs": [
    {
     "data": {
      "text/html": [
       "<div>\n",
       "<style scoped>\n",
       "    .dataframe tbody tr th:only-of-type {\n",
       "        vertical-align: middle;\n",
       "    }\n",
       "\n",
       "    .dataframe tbody tr th {\n",
       "        vertical-align: top;\n",
       "    }\n",
       "\n",
       "    .dataframe thead th {\n",
       "        text-align: right;\n",
       "    }\n",
       "</style>\n",
       "<table border=\"1\" class=\"dataframe\">\n",
       "  <thead>\n",
       "    <tr style=\"text-align: right;\">\n",
       "      <th></th>\n",
       "      <th>co2_value</th>\n",
       "      <th>temp_value</th>\n",
       "      <th>light_value</th>\n",
       "      <th>humidity_value</th>\n",
       "      <th>time</th>\n",
       "      <th>room</th>\n",
       "      <th>label</th>\n",
       "    </tr>\n",
       "  </thead>\n",
       "  <tbody>\n",
       "    <tr>\n",
       "      <th>2</th>\n",
       "      <td>465.0</td>\n",
       "      <td>22.80</td>\n",
       "      <td>165.0</td>\n",
       "      <td>52.40</td>\n",
       "      <td>2013-08-23 23:04:57</td>\n",
       "      <td>644</td>\n",
       "      <td>0</td>\n",
       "    </tr>\n",
       "    <tr>\n",
       "      <th>1</th>\n",
       "      <td>579.0</td>\n",
       "      <td>24.37</td>\n",
       "      <td>176.0</td>\n",
       "      <td>49.90</td>\n",
       "      <td>2013-08-23 23:04:57</td>\n",
       "      <td>656A</td>\n",
       "      <td>1</td>\n",
       "    </tr>\n",
       "    <tr>\n",
       "      <th>4</th>\n",
       "      <td>434.0</td>\n",
       "      <td>24.08</td>\n",
       "      <td>11.0</td>\n",
       "      <td>49.94</td>\n",
       "      <td>2013-08-23 23:05:01</td>\n",
       "      <td>564</td>\n",
       "      <td>1</td>\n",
       "    </tr>\n",
       "  </tbody>\n",
       "</table>\n",
       "</div>"
      ],
      "text/plain": [
       "   co2_value  temp_value  light_value  humidity_value                 time  \\\n",
       "2      465.0       22.80        165.0           52.40  2013-08-23 23:04:57   \n",
       "1      579.0       24.37        176.0           49.90  2013-08-23 23:04:57   \n",
       "4      434.0       24.08         11.0           49.94  2013-08-23 23:05:01   \n",
       "\n",
       "   room  label  \n",
       "2   644      0  \n",
       "1  656A      1  \n",
       "4   564      1  "
      ]
     },
     "execution_count": 33,
     "metadata": {},
     "output_type": "execute_result"
    }
   ],
   "source": [
    "df_sampled.head(3)"
   ]
  },
  {
   "cell_type": "code",
   "execution_count": 34,
   "id": "0864f865-99d7-431d-a56f-d9b386410ed2",
   "metadata": {
    "tags": []
   },
   "outputs": [],
   "source": [
    "# df_sampled.to_csv(\"test-data-sampled.csv\",index=False)"
   ]
  },
  {
   "cell_type": "code",
   "execution_count": 35,
   "id": "8983e3cb-d779-4085-8737-8a7df5f4b387",
   "metadata": {
    "tags": []
   },
   "outputs": [],
   "source": [
    "from sklearn.model_selection import train_test_split\n",
    "\n",
    "train, test = train_test_split(df_sampled, test_size=0.2)"
   ]
  },
  {
   "cell_type": "code",
   "execution_count": 36,
   "id": "886f992a-6cd4-4d6e-a39d-fd8f97a5a287",
   "metadata": {
    "tags": []
   },
   "outputs": [
    {
     "name": "stdout",
     "output_type": "stream",
     "text": [
      "0    40027\n",
      "1     7250\n",
      "Name: label, dtype: int64\n",
      "0    9973\n",
      "1    1847\n",
      "Name: label, dtype: int64\n"
     ]
    }
   ],
   "source": [
    "print(train[\"label\"].value_counts())\n",
    "print(test[\"label\"].value_counts())"
   ]
  },
  {
   "cell_type": "code",
   "execution_count": 37,
   "id": "79a0b5cc-7876-4bbb-a2ac-0560a794d0e9",
   "metadata": {
    "tags": []
   },
   "outputs": [],
   "source": [
    "test_df = spark.createDataFrame(test)\n",
    "train_df = spark.createDataFrame(train)"
   ]
  },
  {
   "cell_type": "markdown",
   "id": "ec1be233-0888-4d05-9f01-b7c17e195ed5",
   "metadata": {},
   "source": [
    "<h3>Data Preparing for ML Prediction</h3>"
   ]
  },
  {
   "cell_type": "code",
   "execution_count": 38,
   "id": "5e18f65a-0230-434f-a103-71db5cad1c58",
   "metadata": {},
   "outputs": [],
   "source": [
    "label_col = [\"pir_value\"]\n",
    "\n",
    "# The Room variable contains 51 categories, so it must go through the stringindexer and one-hot-encoder stages.\n",
    "\n",
    "# StringIndexer\n",
    "string_indexer_objs = StringIndexer(inputCol=\"room\",\n",
    "                                    outputCol=\"roomIdx\",\n",
    "                                    handleInvalid='error')\n",
    "\n",
    "# One Hot Encoder\n",
    "encoder = OneHotEncoder(inputCols=[\"roomIdx\"],\n",
    "                        outputCols=[\"ohe_col\"],\n",
    "                        handleInvalid='error')\n",
    "\n",
    "# Vector Assembler\n",
    "# Vector assembler should not have a target.\n",
    "assembler = VectorAssembler(inputCols=['co2_value', \"temp_value\", \"light_value\", \"humidity_value\", 'ohe_col'],\n",
    "                            outputCol='features',\n",
    "                            handleInvalid='skip')"
   ]
  },
  {
   "cell_type": "markdown",
   "id": "4b047620-0a41-4ee7-80f9-b975846c83a8",
   "metadata": {},
   "source": [
    "<h3>Create Model</h3>"
   ]
  },
  {
   "cell_type": "code",
   "execution_count": 39,
   "id": "9527eb3f-8c5e-409c-809b-d67f39a7af77",
   "metadata": {},
   "outputs": [
    {
     "name": "stdout",
     "output_type": "stream",
     "text": [
      "+---------+----------+-----------+--------------+-------------------+----+-----+\n",
      "|co2_value|temp_value|light_value|humidity_value|               time|room|label|\n",
      "+---------+----------+-----------+--------------+-------------------+----+-----+\n",
      "|    471.0|     23.51|        3.0|         57.19|2013-08-30 05:02:50| 748|    0|\n",
      "|    586.0|     25.68|      123.0|          50.9|2013-08-28 19:31:37|656B|    1|\n",
      "|    314.0|     22.85|     2154.0|          53.6|2013-08-24 03:29:28| 668|    0|\n",
      "|    514.0|     22.67|        5.0|         59.83|2013-08-31 01:51:56| 446|    0|\n",
      "|    431.0|     22.19|        3.0|         55.89|2013-08-27 08:15:16| 644|    0|\n",
      "+---------+----------+-----------+--------------+-------------------+----+-----+\n",
      "only showing top 5 rows\n",
      "\n"
     ]
    }
   ],
   "source": [
    "from pyspark.ml.classification import RandomForestClassifier\n",
    "\n",
    "estimator = RandomForestClassifier(labelCol=\"label\", featuresCol=\"features\", numTrees=50)\n",
    "\n",
    "# Pipeline\n",
    "pipeline_obj = Pipeline().setStages([string_indexer_objs, encoder, assembler, estimator])\n",
    "\n",
    "#train_df, test_df = df_last.randomSplit([.8, .2], seed=142)\n",
    "\n",
    "test_df.show(5)\n",
    "\n",
    "pipeline_model = pipeline_obj.fit(train_df)\n",
    "transformed_df = pipeline_model.transform(test_df)\n"
   ]
  },
  {
   "cell_type": "markdown",
   "id": "91664d10-f205-428d-b487-dc07bfddbfd8",
   "metadata": {},
   "source": [
    "<h3>Performance Evaluation</h3>"
   ]
  },
  {
   "cell_type": "code",
   "execution_count": 40,
   "id": "3dbcedca-9043-4149-9331-231e81acc232",
   "metadata": {},
   "outputs": [
    {
     "name": "stdout",
     "output_type": "stream",
     "text": [
      "+---------+----------+-----------+--------------+-------------------+----+-----+-------+---------------+-----------------------------------------------+---------------------------------------+-----------------------------------------+----------+\n",
      "|co2_value|temp_value|light_value|humidity_value|time               |room|label|roomIdx|ohe_col        |features                                       |rawPrediction                          |probability                              |prediction|\n",
      "+---------+----------+-----------+--------------+-------------------+----+-----+-------+---------------+-----------------------------------------------+---------------------------------------+-----------------------------------------+----------+\n",
      "|471.0    |23.51     |3.0        |57.19         |2013-08-30 05:02:50|748 |0    |21.0   |(50,[21],[1.0])|(54,[0,1,2,3,25],[471.0,23.51,3.0,57.19,1.0])  |[46.99704782396685,3.0029521760331477] |[0.9399409564793371,0.06005904352066296] |0.0       |\n",
      "|586.0    |25.68     |123.0      |50.9          |2013-08-28 19:31:37|656B|1    |17.0   |(50,[17],[1.0])|(54,[0,1,2,3,21],[586.0,25.68,123.0,50.9,1.0]) |[21.30790726125246,28.692092738747544] |[0.4261581452250492,0.5738418547749509]  |1.0       |\n",
      "|314.0    |22.85     |2154.0     |53.6          |2013-08-24 03:29:28|668 |0    |5.0    |(50,[5],[1.0]) |(54,[0,1,2,3,9],[314.0,22.85,2154.0,53.6,1.0]) |[42.304757502969494,7.695242497030513] |[0.8460951500593897,0.15390484994061024] |0.0       |\n",
      "|514.0    |22.67     |5.0        |59.83         |2013-08-31 01:51:56|446 |0    |16.0   |(50,[16],[1.0])|(54,[0,1,2,3,20],[514.0,22.67,5.0,59.83,1.0])  |[46.79389229484217,3.206107705157832]  |[0.9358778458968433,0.06412215410315664] |0.0       |\n",
      "|431.0    |22.19     |3.0        |55.89         |2013-08-27 08:15:16|644 |0    |7.0    |(50,[7],[1.0]) |(54,[0,1,2,3,11],[431.0,22.19,3.0,55.89,1.0])  |[47.03736528060163,2.9626347193983773] |[0.9407473056120323,0.059252694387967535]|0.0       |\n",
      "|417.0    |22.69     |11.0       |61.52         |2013-08-30 17:48:16|513 |0    |2.0    |(50,[2],[1.0]) |(54,[0,1,2,3,6],[417.0,22.69,11.0,61.52,1.0])  |[46.913516275352336,3.086483724647676] |[0.9382703255070465,0.0617296744929535]  |0.0       |\n",
      "|492.0    |23.54     |3.0        |57.13         |2013-08-30 05:39:19|748 |0    |21.0   |(50,[21],[1.0])|(54,[0,1,2,3,25],[492.0,23.54,3.0,57.13,1.0])  |[46.99704782396685,3.0029521760331477] |[0.9399409564793371,0.06005904352066296] |0.0       |\n",
      "|563.0    |24.42     |30.0       |56.08         |2013-08-30 00:27:48|664 |1    |4.0    |(50,[4],[1.0]) |(54,[0,1,2,3,8],[563.0,24.42,30.0,56.08,1.0])  |[21.619766871210572,28.38023312878943] |[0.43239533742421143,0.5676046625757887] |1.0       |\n",
      "|678.0    |24.49     |58.0       |53.35         |2013-08-26 19:01:14|423 |1    |19.0   |(50,[19],[1.0])|(54,[0,1,2,3,23],[678.0,24.49,58.0,53.35,1.0]) |[17.64769420881888,32.35230579118114]  |[0.3529538841763775,0.6470461158236226]  |1.0       |\n",
      "|485.0    |23.52     |5.0        |58.3          |2013-08-29 19:33:40|424 |0    |8.0    |(50,[8],[1.0]) |(54,[0,1,2,3,12],[485.0,23.52,5.0,58.3,1.0])   |[47.03736528060163,2.9626347193983773] |[0.9407473056120323,0.059252694387967535]|0.0       |\n",
      "|290.0    |23.09     |3.0        |57.68         |2013-08-31 06:10:01|564 |0    |11.0   |(50,[11],[1.0])|(54,[0,1,2,3,15],[290.0,23.09,3.0,57.68,1.0])  |[46.95313778767295,3.0468622123270532] |[0.9390627557534589,0.06093724424654105] |0.0       |\n",
      "|104.0    |22.3      |4.0        |58.55         |2013-08-25 08:18:45|648 |0    |1.0    |(50,[1],[1.0]) |(54,[0,1,2,3,5],[104.0,22.3,4.0,58.55,1.0])    |[47.08987153479769,2.910128465202311]  |[0.9417974306959538,0.05820256930404622] |0.0       |\n",
      "|591.0    |22.64     |5.0        |60.47         |2013-08-30 22:10:53|446 |0    |16.0   |(50,[16],[1.0])|(54,[0,1,2,3,20],[591.0,22.64,5.0,60.47,1.0])  |[44.1691564229375,5.830843577062506]   |[0.88338312845875,0.11661687154125012]   |0.0       |\n",
      "|633.0    |22.75     |37.0       |61.52         |2013-08-30 21:25:54|458 |1    |35.0   |(50,[35],[1.0])|(54,[0,1,2,3,39],[633.0,22.75,37.0,61.52,1.0]) |[26.656939160587683,23.343060839412317]|[0.5331387832117537,0.4668612167882463]  |0.0       |\n",
      "|611.0    |24.73     |34.0       |55.89         |2013-08-29 21:42:03|664 |1    |4.0    |(50,[4],[1.0]) |(54,[0,1,2,3,8],[611.0,24.73,34.0,55.89,1.0])  |[21.004857982407003,28.995142017593004]|[0.42009715964814,0.57990284035186]      |1.0       |\n",
      "|443.0    |23.26     |4.0        |58.55         |2013-08-29 06:46:32|644 |1    |7.0    |(50,[7],[1.0]) |(54,[0,1,2,3,11],[443.0,23.26,4.0,58.55,1.0])  |[47.03736528060163,2.9626347193983773] |[0.9407473056120323,0.059252694387967535]|0.0       |\n",
      "|457.0    |24.81     |74.0       |53.32         |2013-08-28 22:50:10|734 |1    |23.0   |(50,[23],[1.0])|(54,[0,1,2,3,27],[457.0,24.81,74.0,53.32,1.0]) |[36.244038416175904,13.755961583824096]|[0.7248807683235181,0.2751192316764819]  |0.0       |\n",
      "|307.0    |23.04     |3.0        |58.33         |2013-08-25 13:15:31|664 |0    |4.0    |(50,[4],[1.0]) |(54,[0,1,2,3,8],[307.0,23.04,3.0,58.33,1.0])   |[47.03736528060163,2.9626347193983773] |[0.9407473056120323,0.059252694387967535]|0.0       |\n",
      "|444.0    |22.44     |526.0      |60.19         |2013-08-28 16:11:02|719 |1    |18.0   |(50,[18],[1.0])|(54,[0,1,2,3,22],[444.0,22.44,526.0,60.19,1.0])|[38.39698961423299,11.603010385767016] |[0.7679397922846597,0.23206020771534028] |0.0       |\n",
      "|313.0    |21.32     |2002.0     |57.56         |2013-08-24 10:08:37|668 |0    |5.0    |(50,[5],[1.0]) |(54,[0,1,2,3,9],[313.0,21.32,2002.0,57.56,1.0])|[42.304757502969494,7.695242497030513] |[0.8460951500593897,0.15390484994061024] |0.0       |\n",
      "+---------+----------+-----------+--------------+-------------------+----+-----+-------+---------------+-----------------------------------------------+---------------------------------------+-----------------------------------------+----------+\n",
      "only showing top 20 rows\n",
      "\n",
      "0.9597689614693835\n"
     ]
    },
    {
     "data": {
      "text/plain": [
       "'areaUnderROC'"
      ]
     },
     "execution_count": 40,
     "metadata": {},
     "output_type": "execute_result"
    }
   ],
   "source": [
    "# Prediction\n",
    "transformed_df.show(truncate=False)\n",
    "\n",
    "# Evaluate the Model\n",
    "from pyspark.ml.evaluation import BinaryClassificationEvaluator\n",
    "\n",
    "evaluator = BinaryClassificationEvaluator()\n",
    "evaluator.evaluate(transformed_df)\n",
    "print(evaluator.evaluate(transformed_df))\n",
    "\n",
    "# 0.9483103977867051\n",
    "\n",
    "evaluator.getMetricName()"
   ]
  },
  {
   "cell_type": "markdown",
   "id": "4b3197c7-526e-4027-a476-c2d83256451a",
   "metadata": {},
   "source": [
    "<h3>Saving The Model to Disk</h3>"
   ]
  },
  {
   "cell_type": "code",
   "execution_count": null,
   "id": "a9ea93d4-49e9-405c-89d5-db086b9c49df",
   "metadata": {},
   "outputs": [],
   "source": [
    "##### \n",
    "pipeline_model.write().overwrite().save(\n",
    "    \"/home/selcuk/spark/bitirme-projesi/saved_model2/pipeline_model\")\n",
    "\n",
    "from pyspark.ml.pipeline import PipelineModel\n",
    "\n",
    "pipeline_model_loaded = PipelineModel.load(\n",
    "    \"/home/selcuk/spark/bitirme-projesi/saved_model2/pipeline_model\")\n",
    "\n",
    "pipeline_model_loaded"
   ]
  },
  {
   "cell_type": "code",
   "execution_count": null,
   "id": "86ab4e33-f0e6-4108-ae32-d6fb1e0e7b9e",
   "metadata": {},
   "outputs": [],
   "source": [
    "test_df.coalesce(1).write \\\n",
    "    .format(\"csv\") \\\n",
    "    .mode(\"overwrite\") \\\n",
    "    .option(\"header\", \"true\") \\\n",
    "    .save(\"file:///home/train/atscale4/final_homework/test_df\")"
   ]
  }
 ],
 "metadata": {
  "kernelspec": {
   "display_name": "Python 3 (ipykernel)",
   "language": "python",
   "name": "python3"
  },
  "language_info": {
   "codemirror_mode": {
    "name": "ipython",
    "version": 3
   },
   "file_extension": ".py",
   "mimetype": "text/x-python",
   "name": "python",
   "nbconvert_exporter": "python",
   "pygments_lexer": "ipython3",
   "version": "3.10.9"
  }
 },
 "nbformat": 4,
 "nbformat_minor": 5
}
