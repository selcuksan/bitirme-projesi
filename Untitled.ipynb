{
 "cells": [
  {
   "cell_type": "code",
   "execution_count": 1,
   "id": "dbf9ffdb-16ad-42da-97ca-aafcb9ec20ab",
   "metadata": {
    "tags": []
   },
   "outputs": [],
   "source": [
    "import pandas as pd"
   ]
  },
  {
   "cell_type": "code",
   "execution_count": 5,
   "id": "f8f9b629-9e09-489a-8380-ce2c487944e3",
   "metadata": {
    "tags": []
   },
   "outputs": [],
   "source": [
    "df = pd.read_csv(\"test_df/data.csv\")"
   ]
  },
  {
   "cell_type": "code",
   "execution_count": 6,
   "id": "f62a3456-096a-48a2-86d5-9afc7b8e80dc",
   "metadata": {
    "tags": []
   },
   "outputs": [
    {
     "data": {
      "text/html": [
       "<div>\n",
       "<style scoped>\n",
       "    .dataframe tbody tr th:only-of-type {\n",
       "        vertical-align: middle;\n",
       "    }\n",
       "\n",
       "    .dataframe tbody tr th {\n",
       "        vertical-align: top;\n",
       "    }\n",
       "\n",
       "    .dataframe thead th {\n",
       "        text-align: right;\n",
       "    }\n",
       "</style>\n",
       "<table border=\"1\" class=\"dataframe\">\n",
       "  <thead>\n",
       "    <tr style=\"text-align: right;\">\n",
       "      <th></th>\n",
       "      <th>co2_value</th>\n",
       "      <th>temp_value</th>\n",
       "      <th>light_value</th>\n",
       "      <th>humidity_value</th>\n",
       "      <th>time</th>\n",
       "      <th>room</th>\n",
       "      <th>label</th>\n",
       "    </tr>\n",
       "  </thead>\n",
       "  <tbody>\n",
       "    <tr>\n",
       "      <th>0</th>\n",
       "      <td>465.0</td>\n",
       "      <td>22.80</td>\n",
       "      <td>165.0</td>\n",
       "      <td>52.40</td>\n",
       "      <td>2013-08-24T02:04:57.000+03:00</td>\n",
       "      <td>644</td>\n",
       "      <td>0</td>\n",
       "    </tr>\n",
       "    <tr>\n",
       "      <th>1</th>\n",
       "      <td>495.0</td>\n",
       "      <td>23.94</td>\n",
       "      <td>97.0</td>\n",
       "      <td>45.34</td>\n",
       "      <td>2013-08-24T02:05:08.000+03:00</td>\n",
       "      <td>413</td>\n",
       "      <td>0</td>\n",
       "    </tr>\n",
       "    <tr>\n",
       "      <th>2</th>\n",
       "      <td>426.0</td>\n",
       "      <td>24.81</td>\n",
       "      <td>2208.0</td>\n",
       "      <td>49.10</td>\n",
       "      <td>2013-08-24T02:05:26.000+03:00</td>\n",
       "      <td>668</td>\n",
       "      <td>0</td>\n",
       "    </tr>\n",
       "    <tr>\n",
       "      <th>3</th>\n",
       "      <td>439.0</td>\n",
       "      <td>23.11</td>\n",
       "      <td>4.0</td>\n",
       "      <td>53.51</td>\n",
       "      <td>2013-08-24T02:05:26.000+03:00</td>\n",
       "      <td>558</td>\n",
       "      <td>0</td>\n",
       "    </tr>\n",
       "    <tr>\n",
       "      <th>4</th>\n",
       "      <td>410.0</td>\n",
       "      <td>23.56</td>\n",
       "      <td>4.0</td>\n",
       "      <td>51.25</td>\n",
       "      <td>2013-08-24T02:05:27.000+03:00</td>\n",
       "      <td>448</td>\n",
       "      <td>0</td>\n",
       "    </tr>\n",
       "  </tbody>\n",
       "</table>\n",
       "</div>"
      ],
      "text/plain": [
       "   co2_value  temp_value  light_value  humidity_value  \\\n",
       "0      465.0       22.80        165.0           52.40   \n",
       "1      495.0       23.94         97.0           45.34   \n",
       "2      426.0       24.81       2208.0           49.10   \n",
       "3      439.0       23.11          4.0           53.51   \n",
       "4      410.0       23.56          4.0           51.25   \n",
       "\n",
       "                            time room  label  \n",
       "0  2013-08-24T02:04:57.000+03:00  644      0  \n",
       "1  2013-08-24T02:05:08.000+03:00  413      0  \n",
       "2  2013-08-24T02:05:26.000+03:00  668      0  \n",
       "3  2013-08-24T02:05:26.000+03:00  558      0  \n",
       "4  2013-08-24T02:05:27.000+03:00  448      0  "
      ]
     },
     "execution_count": 6,
     "metadata": {},
     "output_type": "execute_result"
    }
   ],
   "source": [
    "df.head()"
   ]
  },
  {
   "cell_type": "code",
   "execution_count": 10,
   "id": "f439dadf-9405-42de-a13f-615e3401654b",
   "metadata": {
    "tags": []
   },
   "outputs": [
    {
     "name": "stdout",
     "output_type": "stream",
     "text": [
      "<class 'pandas.core.frame.DataFrame'>\n",
      "RangeIndex: 27049 entries, 0 to 27048\n",
      "Data columns (total 7 columns):\n",
      " #   Column          Non-Null Count  Dtype  \n",
      "---  ------          --------------  -----  \n",
      " 0   co2_value       27049 non-null  float64\n",
      " 1   temp_value      27049 non-null  float64\n",
      " 2   light_value     27049 non-null  float64\n",
      " 3   humidity_value  27049 non-null  float64\n",
      " 4   time            27049 non-null  object \n",
      " 5   room            27049 non-null  object \n",
      " 6   label           27049 non-null  int64  \n",
      "dtypes: float64(4), int64(1), object(2)\n",
      "memory usage: 1.4+ MB\n"
     ]
    }
   ],
   "source": [
    "df.info()"
   ]
  },
  {
   "cell_type": "code",
   "execution_count": 7,
   "id": "b544e3eb-5163-4de1-a608-d9ba9cd4d932",
   "metadata": {
    "tags": []
   },
   "outputs": [],
   "source": [
    "data = pd.read_csv(\"test_df/sensor-data.csv\")"
   ]
  },
  {
   "cell_type": "code",
   "execution_count": 8,
   "id": "06dc428a-1d89-4d85-8917-698f72583c49",
   "metadata": {
    "tags": []
   },
   "outputs": [
    {
     "data": {
      "text/html": [
       "<div>\n",
       "<style scoped>\n",
       "    .dataframe tbody tr th:only-of-type {\n",
       "        vertical-align: middle;\n",
       "    }\n",
       "\n",
       "    .dataframe tbody tr th {\n",
       "        vertical-align: top;\n",
       "    }\n",
       "\n",
       "    .dataframe thead th {\n",
       "        text-align: right;\n",
       "    }\n",
       "</style>\n",
       "<table border=\"1\" class=\"dataframe\">\n",
       "  <thead>\n",
       "    <tr style=\"text-align: right;\">\n",
       "      <th></th>\n",
       "      <th>co2_value</th>\n",
       "      <th>temp_value</th>\n",
       "      <th>light_value</th>\n",
       "      <th>humidity_value</th>\n",
       "      <th>time</th>\n",
       "      <th>room</th>\n",
       "      <th>label</th>\n",
       "    </tr>\n",
       "  </thead>\n",
       "  <tbody>\n",
       "    <tr>\n",
       "      <th>0</th>\n",
       "      <td>387.0</td>\n",
       "      <td>22.62</td>\n",
       "      <td>252.0</td>\n",
       "      <td>52.75</td>\n",
       "      <td>2013-08-23 23:04:53</td>\n",
       "      <td>511</td>\n",
       "      <td>0</td>\n",
       "    </tr>\n",
       "    <tr>\n",
       "      <th>1</th>\n",
       "      <td>579.0</td>\n",
       "      <td>24.37</td>\n",
       "      <td>176.0</td>\n",
       "      <td>49.90</td>\n",
       "      <td>2013-08-23 23:04:57</td>\n",
       "      <td>656A</td>\n",
       "      <td>1</td>\n",
       "    </tr>\n",
       "    <tr>\n",
       "      <th>2</th>\n",
       "      <td>465.0</td>\n",
       "      <td>22.80</td>\n",
       "      <td>165.0</td>\n",
       "      <td>52.40</td>\n",
       "      <td>2013-08-23 23:04:57</td>\n",
       "      <td>644</td>\n",
       "      <td>0</td>\n",
       "    </tr>\n",
       "    <tr>\n",
       "      <th>3</th>\n",
       "      <td>175.0</td>\n",
       "      <td>23.32</td>\n",
       "      <td>191.0</td>\n",
       "      <td>50.32</td>\n",
       "      <td>2013-08-23 23:04:57</td>\n",
       "      <td>648</td>\n",
       "      <td>0</td>\n",
       "    </tr>\n",
       "    <tr>\n",
       "      <th>4</th>\n",
       "      <td>434.0</td>\n",
       "      <td>24.08</td>\n",
       "      <td>11.0</td>\n",
       "      <td>49.94</td>\n",
       "      <td>2013-08-23 23:05:01</td>\n",
       "      <td>564</td>\n",
       "      <td>1</td>\n",
       "    </tr>\n",
       "  </tbody>\n",
       "</table>\n",
       "</div>"
      ],
      "text/plain": [
       "   co2_value  temp_value  light_value  humidity_value                 time  \\\n",
       "0      387.0       22.62        252.0           52.75  2013-08-23 23:04:53   \n",
       "1      579.0       24.37        176.0           49.90  2013-08-23 23:04:57   \n",
       "2      465.0       22.80        165.0           52.40  2013-08-23 23:04:57   \n",
       "3      175.0       23.32        191.0           50.32  2013-08-23 23:04:57   \n",
       "4      434.0       24.08         11.0           49.94  2013-08-23 23:05:01   \n",
       "\n",
       "   room  label  \n",
       "0   511      0  \n",
       "1  656A      1  \n",
       "2   644      0  \n",
       "3   648      0  \n",
       "4   564      1  "
      ]
     },
     "execution_count": 8,
     "metadata": {},
     "output_type": "execute_result"
    }
   ],
   "source": [
    "data.head()"
   ]
  },
  {
   "cell_type": "code",
   "execution_count": 19,
   "id": "7ff6af95-b010-4222-a017-7eecfa9ab1ff",
   "metadata": {
    "tags": []
   },
   "outputs": [],
   "source": [
    "data[\"time\"] = data[\"time\"].apply(lambda x: pd.to_datetime(x).strftime('%Y-%m-%dT%H:%M:%S.000+03:00'))"
   ]
  },
  {
   "cell_type": "code",
   "execution_count": 20,
   "id": "3ada9371-378e-4866-9089-401162dc0cc8",
   "metadata": {
    "tags": []
   },
   "outputs": [
    {
     "data": {
      "text/html": [
       "<div>\n",
       "<style scoped>\n",
       "    .dataframe tbody tr th:only-of-type {\n",
       "        vertical-align: middle;\n",
       "    }\n",
       "\n",
       "    .dataframe tbody tr th {\n",
       "        vertical-align: top;\n",
       "    }\n",
       "\n",
       "    .dataframe thead th {\n",
       "        text-align: right;\n",
       "    }\n",
       "</style>\n",
       "<table border=\"1\" class=\"dataframe\">\n",
       "  <thead>\n",
       "    <tr style=\"text-align: right;\">\n",
       "      <th></th>\n",
       "      <th>co2_value</th>\n",
       "      <th>temp_value</th>\n",
       "      <th>light_value</th>\n",
       "      <th>humidity_value</th>\n",
       "      <th>time</th>\n",
       "      <th>room</th>\n",
       "      <th>label</th>\n",
       "    </tr>\n",
       "  </thead>\n",
       "  <tbody>\n",
       "    <tr>\n",
       "      <th>0</th>\n",
       "      <td>387.0</td>\n",
       "      <td>22.62</td>\n",
       "      <td>252.0</td>\n",
       "      <td>52.75</td>\n",
       "      <td>2013-08-23T23:04:53.000+03:00</td>\n",
       "      <td>511</td>\n",
       "      <td>0</td>\n",
       "    </tr>\n",
       "    <tr>\n",
       "      <th>1</th>\n",
       "      <td>579.0</td>\n",
       "      <td>24.37</td>\n",
       "      <td>176.0</td>\n",
       "      <td>49.90</td>\n",
       "      <td>2013-08-23T23:04:57.000+03:00</td>\n",
       "      <td>656A</td>\n",
       "      <td>1</td>\n",
       "    </tr>\n",
       "    <tr>\n",
       "      <th>2</th>\n",
       "      <td>465.0</td>\n",
       "      <td>22.80</td>\n",
       "      <td>165.0</td>\n",
       "      <td>52.40</td>\n",
       "      <td>2013-08-23T23:04:57.000+03:00</td>\n",
       "      <td>644</td>\n",
       "      <td>0</td>\n",
       "    </tr>\n",
       "    <tr>\n",
       "      <th>3</th>\n",
       "      <td>175.0</td>\n",
       "      <td>23.32</td>\n",
       "      <td>191.0</td>\n",
       "      <td>50.32</td>\n",
       "      <td>2013-08-23T23:04:57.000+03:00</td>\n",
       "      <td>648</td>\n",
       "      <td>0</td>\n",
       "    </tr>\n",
       "    <tr>\n",
       "      <th>4</th>\n",
       "      <td>434.0</td>\n",
       "      <td>24.08</td>\n",
       "      <td>11.0</td>\n",
       "      <td>49.94</td>\n",
       "      <td>2013-08-23T23:05:01.000+03:00</td>\n",
       "      <td>564</td>\n",
       "      <td>1</td>\n",
       "    </tr>\n",
       "  </tbody>\n",
       "</table>\n",
       "</div>"
      ],
      "text/plain": [
       "   co2_value  temp_value  light_value  humidity_value  \\\n",
       "0      387.0       22.62        252.0           52.75   \n",
       "1      579.0       24.37        176.0           49.90   \n",
       "2      465.0       22.80        165.0           52.40   \n",
       "3      175.0       23.32        191.0           50.32   \n",
       "4      434.0       24.08         11.0           49.94   \n",
       "\n",
       "                            time  room  label  \n",
       "0  2013-08-23T23:04:53.000+03:00   511      0  \n",
       "1  2013-08-23T23:04:57.000+03:00  656A      1  \n",
       "2  2013-08-23T23:04:57.000+03:00   644      0  \n",
       "3  2013-08-23T23:04:57.000+03:00   648      0  \n",
       "4  2013-08-23T23:05:01.000+03:00   564      1  "
      ]
     },
     "execution_count": 20,
     "metadata": {},
     "output_type": "execute_result"
    }
   ],
   "source": [
    "data.head()"
   ]
  },
  {
   "cell_type": "code",
   "execution_count": 22,
   "id": "20250782-2858-4385-9a51-962f0759f868",
   "metadata": {
    "tags": []
   },
   "outputs": [],
   "source": [
    "data.to_csv(\"sensor-data-new.csv\",index=False)"
   ]
  },
  {
   "cell_type": "code",
   "execution_count": null,
   "id": "387030ca-fb40-4a28-8999-a4f8695259d9",
   "metadata": {},
   "outputs": [],
   "source": []
  }
 ],
 "metadata": {
  "kernelspec": {
   "display_name": "Python 3 (ipykernel)",
   "language": "python",
   "name": "python3"
  },
  "language_info": {
   "codemirror_mode": {
    "name": "ipython",
    "version": 3
   },
   "file_extension": ".py",
   "mimetype": "text/x-python",
   "name": "python",
   "nbconvert_exporter": "python",
   "pygments_lexer": "ipython3",
   "version": "3.10.9"
  }
 },
 "nbformat": 4,
 "nbformat_minor": 5
}
