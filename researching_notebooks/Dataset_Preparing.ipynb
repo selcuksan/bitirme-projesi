{
 "cells": [
  {
   "cell_type": "markdown",
   "id": "bc29013e",
   "metadata": {},
   "source": [
    "<h3>Importing Modules</h3>"
   ]
  },
  {
   "cell_type": "code",
   "execution_count": 1,
   "id": "e76abd10",
   "metadata": {
    "tags": []
   },
   "outputs": [],
   "source": [
    "from pyspark.sql import SparkSession, functions as F\n",
    "import pandas as pd\n",
    "import warnings\n",
    "from pyspark.ml.feature import StringIndexer\n",
    "from pyspark.ml.feature import OneHotEncoder\n",
    "from pyspark.ml.feature import VectorAssembler\n",
    "from pyspark.ml.classification import GBTClassifier\n",
    "from pyspark.ml import Pipeline"
   ]
  },
  {
   "cell_type": "code",
   "execution_count": 2,
   "id": "14438a84",
   "metadata": {
    "tags": []
   },
   "outputs": [],
   "source": [
    "warnings.simplefilter(action='ignore')\n",
    "\n",
    "# display\n",
    "pd.set_option('display.max_columns', None)\n",
    "pd.set_option('display.max_rows', None)"
   ]
  },
  {
   "cell_type": "markdown",
   "id": "165eb470",
   "metadata": {
    "tags": []
   },
   "source": [
    "<h3>Create SparkSession object</h3>"
   ]
  },
  {
   "cell_type": "code",
   "execution_count": 3,
   "id": "5efc1bf1",
   "metadata": {
    "tags": []
   },
   "outputs": [],
   "source": [
    "spark = SparkSession.builder \\\n",
    "    .appName(\"sensors_realtime_prediction\") \\\n",
    "    .master(\"local[2]\") \\\n",
    "    .enableHiveSupport() \\\n",
    "    .getOrCreate()\n",
    "\n",
    "spark.sparkContext.setLogLevel('ERROR')"
   ]
  },
  {
   "cell_type": "markdown",
   "id": "e0216a4e",
   "metadata": {
    "tags": []
   },
   "source": [
    "<h3>Read data from source</h3>"
   ]
  },
  {
   "cell_type": "code",
   "execution_count": 4,
   "id": "52cd347e",
   "metadata": {
    "tags": []
   },
   "outputs": [
    {
     "name": "stdout",
     "output_type": "stream",
     "text": [
      "+-------------------+------+----+------+\n",
      "|time               |value |room|sensor|\n",
      "+-------------------+------+----+------+\n",
      "|2013-08-23 23:05:03|2287.0|668 |light |\n",
      "|2013-08-23 23:05:05|1977.0|668 |light |\n",
      "|2013-08-23 23:05:26|2208.0|668 |light |\n",
      "|2013-08-23 23:05:30|2267.0|668 |light |\n",
      "|2013-08-23 23:05:33|2097.0|668 |light |\n",
      "|2013-08-23 23:05:38|2111.0|668 |light |\n",
      "|2013-08-23 23:05:43|2257.0|668 |light |\n",
      "|2013-08-23 23:05:48|2200.0|668 |light |\n",
      "|2013-08-23 23:05:53|2164.0|668 |light |\n",
      "|2013-08-23 23:05:58|2183.0|668 |light |\n",
      "+-------------------+------+----+------+\n",
      "only showing top 10 rows\n",
      "\n"
     ]
    },
    {
     "data": {
      "text/plain": [
       "DataFrame[time: timestamp, value: double, room: string, sensor: string]"
      ]
     },
     "execution_count": 4,
     "metadata": {},
     "output_type": "execute_result"
    }
   ],
   "source": [
    "df = spark.read.format(\"csv\") \\\n",
    "    .option(\"header\", False) \\\n",
    "    .option(\"inferSchema\", True) \\\n",
    "    .option(\"sep\", \",\") \\\n",
    "    .load(\"/home/selcuk/spark/bitirme-projesi/KETI/*/*.csv\") \\\n",
    "    .withColumn(\"file_name\", F.input_file_name()) \\\n",
    "    .withColumn(\"_c0\", F.to_timestamp(\"_c0\")) \\\n",
    "    .withColumn(\"room\", F.element_at(F.reverse(F.split(F.col(\"file_name\"), \"/\")), 2)) \\\n",
    "    .withColumn(\"sensor\", F.regexp_replace(F.element_at(F.reverse(F.split(F.col(\"file_name\"), \"/\")), 1), \".csv\", \"\")) \\\n",
    "    .withColumnRenamed(\"_c0\", \"time\") \\\n",
    "    .withColumnRenamed(\"_c1\", \"value\") \\\n",
    "    .drop(\"file_name\")\n",
    "\n",
    "df.show(n=10, truncate=False)\n",
    "df.cache()"
   ]
  },
  {
   "cell_type": "markdown",
   "id": "0701e95a",
   "metadata": {
    "tags": []
   },
   "source": [
    "<h3>Creating different dataframes based on sensor type</h3>"
   ]
  },
  {
   "cell_type": "code",
   "execution_count": 5,
   "id": "b5551ad4-27a6-4c6a-9468-325a07d1123e",
   "metadata": {
    "tags": []
   },
   "outputs": [
    {
     "name": "stdout",
     "output_type": "stream",
     "text": [
      "+---------+--------+-------------------+\n",
      "|pir_value|room_pir|           time_pir|\n",
      "+---------+--------+-------------------+\n",
      "|      0.0|     648|2013-08-23 19:24:34|\n",
      "|     29.0|     648|2013-08-23 22:13:24|\n",
      "|     28.0|     648|2013-08-23 22:13:34|\n",
      "|     30.0|     648|2013-08-23 22:13:36|\n",
      "|     30.0|     648|2013-08-23 22:13:37|\n",
      "+---------+--------+-------------------+\n",
      "only showing top 5 rows\n",
      "\n"
     ]
    }
   ],
   "source": [
    "##### Divide sensor into dataframes #####\n",
    "df_pir = df.filter(\"sensor=='pir'\") \\\n",
    "    .withColumn(\"pir_value\", F.col(\"value\")) \\\n",
    "    .withColumn(\"room_pir\", F.col(\"room\")) \\\n",
    "    .withColumn(\"time_pir\", F.col(\"time\")) \\\n",
    "    .drop(\"sensor\", \"value\", \"room\", \"time\")\n",
    "df_pir.show(5)"
   ]
  },
  {
   "cell_type": "code",
   "execution_count": 6,
   "id": "947da608-4ba7-433d-81cd-4f70599c2e03",
   "metadata": {
    "tags": []
   },
   "outputs": [
    {
     "name": "stdout",
     "output_type": "stream",
     "text": [
      "+-----------+----------+-------------------+\n",
      "|light_value|room_light|         time_light|\n",
      "+-----------+----------+-------------------+\n",
      "|     2287.0|       668|2013-08-23 23:05:03|\n",
      "|     1977.0|       668|2013-08-23 23:05:05|\n",
      "|     2208.0|       668|2013-08-23 23:05:26|\n",
      "|     2267.0|       668|2013-08-23 23:05:30|\n",
      "|     2097.0|       668|2013-08-23 23:05:33|\n",
      "+-----------+----------+-------------------+\n",
      "only showing top 5 rows\n",
      "\n"
     ]
    }
   ],
   "source": [
    "df_light = df.filter(\"sensor=='light'\") \\\n",
    "    .withColumn(\"light_value\", F.col(\"value\")) \\\n",
    "    .withColumn(\"room_light\", F.col(\"room\")) \\\n",
    "    .withColumn(\"time_light\", F.col(\"time\")) \\\n",
    "    .drop(\"sensor\", \"value\", \"room\", \"time\")\n",
    "df_light.show(5)"
   ]
  },
  {
   "cell_type": "code",
   "execution_count": 7,
   "id": "7690f8d3-b62e-472c-a21d-530ec08df06b",
   "metadata": {
    "tags": []
   },
   "outputs": [
    {
     "name": "stdout",
     "output_type": "stream",
     "text": [
      "+--------------+-------------+-------------------+\n",
      "|humidity_value|room_humidity|      time_humidity|\n",
      "+--------------+-------------+-------------------+\n",
      "|         50.29|          776|2013-08-23 21:20:29|\n",
      "|         50.26|          776|2013-08-23 21:20:34|\n",
      "|         50.26|          776|2013-08-23 21:20:39|\n",
      "|         50.26|          776|2013-08-23 21:20:44|\n",
      "|         50.26|          776|2013-08-23 21:20:49|\n",
      "+--------------+-------------+-------------------+\n",
      "only showing top 5 rows\n",
      "\n"
     ]
    }
   ],
   "source": [
    "df_humidity = df.filter(\"sensor=='humidity'\") \\\n",
    "    .withColumn(\"humidity_value\", F.col(\"value\")) \\\n",
    "    .withColumn(\"room_humidity\", F.col(\"room\")) \\\n",
    "    .withColumn(\"time_humidity\", F.col(\"time\")) \\\n",
    "    .drop(\"sensor\", \"value\", \"room\", \"time\")\n",
    "df_humidity.show(5)"
   ]
  },
  {
   "cell_type": "code",
   "execution_count": 8,
   "id": "40fdabcf-2675-4bb7-ab6e-8db1db17a8c1",
   "metadata": {
    "tags": []
   },
   "outputs": [
    {
     "name": "stdout",
     "output_type": "stream",
     "text": [
      "+---------+--------+-------------------+\n",
      "|co2_value|room_co2|           time_co2|\n",
      "+---------+--------+-------------------+\n",
      "|    462.0|     415|2013-08-23 16:24:18|\n",
      "|    468.0|     415|2013-08-23 16:24:23|\n",
      "|    467.0|     415|2013-08-23 16:24:28|\n",
      "|    472.0|     415|2013-08-23 16:24:33|\n",
      "|    482.0|     415|2013-08-23 16:24:38|\n",
      "+---------+--------+-------------------+\n",
      "only showing top 5 rows\n",
      "\n"
     ]
    }
   ],
   "source": [
    "df_c02 = df.filter(\"sensor=='co2'\") \\\n",
    "    .withColumn(\"co2_value\", F.col(\"value\")) \\\n",
    "    .withColumn(\"room_co2\", F.col(\"room\")) \\\n",
    "    .withColumn(\"time_co2\", F.col(\"time\")) \\\n",
    "    .drop(\"sensor\", \"value\", \"room\", \"time\")\n",
    "df_c02.show(5)"
   ]
  },
  {
   "cell_type": "code",
   "execution_count": 9,
   "id": "5d014835",
   "metadata": {
    "tags": []
   },
   "outputs": [
    {
     "name": "stdout",
     "output_type": "stream",
     "text": [
      "+----------+---------+-------------------+\n",
      "|temp_value|room_temp|          time_temp|\n",
      "+----------+---------+-------------------+\n",
      "|     24.22|      776|2013-08-23 21:20:29|\n",
      "|     24.24|      776|2013-08-23 21:20:34|\n",
      "|     24.24|      776|2013-08-23 21:20:39|\n",
      "|     24.24|      776|2013-08-23 21:20:44|\n",
      "|     24.24|      776|2013-08-23 21:20:49|\n",
      "+----------+---------+-------------------+\n",
      "only showing top 5 rows\n",
      "\n"
     ]
    }
   ],
   "source": [
    "df_temp = df.filter(\"sensor=='temperature'\") \\\n",
    "    .withColumn(\"temp_value\", F.col(\"value\")) \\\n",
    "    .withColumn(\"room_temp\", F.col(\"room\")) \\\n",
    "    .withColumn(\"time_temp\", F.col(\"time\")) \\\n",
    "    .drop(\"sensor\", \"value\", \"room\", \"time\")\n",
    "df_temp.show(5)"
   ]
  },
  {
   "cell_type": "markdown",
   "id": "ed3b6e0d",
   "metadata": {
    "tags": []
   },
   "source": [
    "<h3>Joining these dataframes</h3>"
   ]
  },
  {
   "cell_type": "code",
   "execution_count": 10,
   "id": "78e69d30",
   "metadata": {
    "tags": []
   },
   "outputs": [
    {
     "data": {
      "text/plain": [
       "135386"
      ]
     },
     "execution_count": 10,
     "metadata": {},
     "output_type": "execute_result"
    }
   ],
   "source": [
    "df = df_pir.join(df_c02, (df_pir[\"room_pir\"] == df_c02[\"room_co2\"]) & (df_pir[\"time_pir\"] == df_c02[\"time_co2\"]),\n",
    "                        \"inner\") \\\n",
    "    .join(df_temp, (df_pir[\"room_pir\"] == df_temp[\"room_temp\"]) & (df_pir[\"time_pir\"] == df_temp[\"time_temp\"]), \"inner\") \\\n",
    "    .join(df_light, (df_pir[\"room_pir\"] == df_light[\"room_light\"]) & (df_pir[\"time_pir\"] == df_light[\"time_light\"]),\n",
    "          \"inner\") \\\n",
    "    .join(df_humidity,\n",
    "          (df_pir[\"room_pir\"] == df_humidity[\"room_humidity\"]) & (df_pir[\"time_pir\"] == df_humidity[\"time_humidity\"]),\n",
    "          \"inner\")\n",
    "\n",
    "df.count()\n",
    "# 135386"
   ]
  },
  {
   "cell_type": "code",
   "execution_count": 11,
   "id": "97bb4730-5b39-4024-b0e9-81dedba6f205",
   "metadata": {
    "tags": []
   },
   "outputs": [
    {
     "name": "stdout",
     "output_type": "stream",
     "text": [
      "+---------+--------+-------------------+---------+--------+-------------------+----------+---------+-------------------+-----------+----------+-------------------+--------------+-------------+-------------------+\n",
      "|pir_value|room_pir|           time_pir|co2_value|room_co2|           time_co2|temp_value|room_temp|          time_temp|light_value|room_light|         time_light|humidity_value|room_humidity|      time_humidity|\n",
      "+---------+--------+-------------------+---------+--------+-------------------+----------+---------+-------------------+-----------+----------+-------------------+--------------+-------------+-------------------+\n",
      "|      0.0|     413|2013-08-25 18:58:04|    459.0|     413|2013-08-25 18:58:04|     23.48|      413|2013-08-25 18:58:04|      103.0|       413|2013-08-25 18:58:04|         52.75|          413|2013-08-25 18:58:04|\n",
      "|      0.0|     413|2013-08-25 20:22:55|    446.0|     413|2013-08-25 20:22:55|     23.54|      413|2013-08-25 20:22:55|      105.0|       413|2013-08-25 20:22:55|         52.43|          413|2013-08-25 20:22:55|\n",
      "|      0.0|     413|2013-08-25 23:58:53|    455.0|     413|2013-08-25 23:58:53|     24.36|      413|2013-08-25 23:58:53|      182.0|       413|2013-08-25 23:58:53|         50.83|          413|2013-08-25 23:58:53|\n",
      "+---------+--------+-------------------+---------+--------+-------------------+----------+---------+-------------------+-----------+----------+-------------------+--------------+-------------+-------------------+\n",
      "only showing top 3 rows\n",
      "\n"
     ]
    }
   ],
   "source": [
    "df.show(3)"
   ]
  },
  {
   "cell_type": "markdown",
   "id": "2fed64e2",
   "metadata": {
    "tags": []
   },
   "source": [
    "<h3>Dropping Columns</h3>"
   ]
  },
  {
   "cell_type": "code",
   "execution_count": 12,
   "id": "8fe57416",
   "metadata": {
    "tags": []
   },
   "outputs": [],
   "source": [
    "df = df \\\n",
    "    .withColumn(\"time\", F.col(\"time_pir\")) \\\n",
    "    .withColumn(\"room\", F.col(\"room_pir\")) \\\n",
    "    .drop(\"value\", \"room_co2\", \"time_co2\", \"room_temp\", \"time_temp\", \"room_light\", \"time_light\", \"room_humidity\",\n",
    "          \"time_humidity\", \"time_pir\", \"room_pir\")\n",
    "\n"
   ]
  },
  {
   "cell_type": "code",
   "execution_count": 13,
   "id": "e52a4eed-23e4-4f37-8ef7-3720c9693a0a",
   "metadata": {
    "tags": []
   },
   "outputs": [
    {
     "name": "stdout",
     "output_type": "stream",
     "text": [
      "root\n",
      " |-- pir_value: double (nullable = true)\n",
      " |-- co2_value: double (nullable = true)\n",
      " |-- temp_value: double (nullable = true)\n",
      " |-- light_value: double (nullable = true)\n",
      " |-- humidity_value: double (nullable = true)\n",
      " |-- time: timestamp (nullable = true)\n",
      " |-- room: string (nullable = true)\n",
      "\n"
     ]
    }
   ],
   "source": [
    "df.printSchema()"
   ]
  },
  {
   "cell_type": "code",
   "execution_count": 14,
   "id": "5ba675a4-3861-46e0-bb2d-f7d9d7a6f195",
   "metadata": {
    "tags": []
   },
   "outputs": [
    {
     "name": "stdout",
     "output_type": "stream",
     "text": [
      "+-------+-----------------+------------------+------------------+------------------+------------------+\n",
      "|summary|        pir_value|         co2_value|        temp_value|       light_value|    humidity_value|\n",
      "+-------+-----------------+------------------+------------------+------------------+------------------+\n",
      "|  count|           135386|            135386|            135386|            135386|            135386|\n",
      "|   mean|1.666804544044436|399.27423071809494|23.415894774939918|140.57186119687412|56.891765987619664|\n",
      "| stddev|6.508213709182818|119.08185828746498|11.836374214777713|470.68676287201504| 3.611998136062539|\n",
      "|    min|              0.0|              62.0|              20.2|               0.0|             42.12|\n",
      "|    max|             30.0|            1223.0|            579.27|            2397.0|             71.29|\n",
      "+-------+-----------------+------------------+------------------+------------------+------------------+\n",
      "\n"
     ]
    }
   ],
   "source": [
    "df.select(\"pir_value\",\"co2_value\", \"temp_value\", \"light_value\", \"humidity_value\").describe().show()"
   ]
  },
  {
   "cell_type": "markdown",
   "id": "03ccd63c",
   "metadata": {
    "tags": []
   },
   "source": [
    "<h3>Create Target Feature</h3>"
   ]
  },
  {
   "cell_type": "code",
   "execution_count": 15,
   "id": "fc7bdf8b",
   "metadata": {
    "tags": []
   },
   "outputs": [
    {
     "name": "stdout",
     "output_type": "stream",
     "text": [
      "+---------+----------+-----------+--------------+-------------------+----+-----+\n",
      "|co2_value|temp_value|light_value|humidity_value|               time|room|label|\n",
      "+---------+----------+-----------+--------------+-------------------+----+-----+\n",
      "|    459.0|     23.48|      103.0|         52.75|2013-08-25 18:58:04| 413|    0|\n",
      "|    446.0|     23.54|      105.0|         52.43|2013-08-25 20:22:55| 413|    0|\n",
      "|    455.0|     24.36|      182.0|         50.83|2013-08-25 23:58:53| 413|    0|\n",
      "+---------+----------+-----------+--------------+-------------------+----+-----+\n",
      "only showing top 3 rows\n",
      "\n"
     ]
    }
   ],
   "source": [
    "df_last = df.withColumn(\"pir_value\", F.when(F.col(\"pir_value\") > 0, 1) \\\n",
    "                           .otherwise(F.col(\"pir_value\"))) \\\n",
    "    .withColumn(\"label\", F.col(\"pir_value\").cast(\"int\")).drop(\"pir_value\")\n",
    "\n",
    "df_last.show(3)"
   ]
  },
  {
   "cell_type": "code",
   "execution_count": 16,
   "id": "63dda440-adf2-461c-88aa-1c216d15594c",
   "metadata": {
    "tags": []
   },
   "outputs": [
    {
     "name": "stdout",
     "output_type": "stream",
     "text": [
      "root\n",
      " |-- co2_value: double (nullable = true)\n",
      " |-- temp_value: double (nullable = true)\n",
      " |-- light_value: double (nullable = true)\n",
      " |-- humidity_value: double (nullable = true)\n",
      " |-- time: timestamp (nullable = true)\n",
      " |-- room: string (nullable = true)\n",
      " |-- label: integer (nullable = true)\n",
      "\n"
     ]
    }
   ],
   "source": [
    "df_last.printSchema()"
   ]
  },
  {
   "cell_type": "code",
   "execution_count": 18,
   "id": "d92e8660-9f74-44b5-830b-d3e41e6891ec",
   "metadata": {
    "tags": []
   },
   "outputs": [
    {
     "data": {
      "text/plain": [
       "135386"
      ]
     },
     "execution_count": 18,
     "metadata": {},
     "output_type": "execute_result"
    }
   ],
   "source": [
    "df_last.count()"
   ]
  },
  {
   "cell_type": "code",
   "execution_count": 19,
   "id": "b8764060-d3e0-4af3-bbb3-4d5cba3fc40f",
   "metadata": {
    "tags": []
   },
   "outputs": [],
   "source": [
    "pandasDF = df_last.toPandas()"
   ]
  },
  {
   "cell_type": "code",
   "execution_count": 21,
   "id": "ca097179-8780-40b9-a842-13d2d73f7d3f",
   "metadata": {
    "tags": []
   },
   "outputs": [
    {
     "data": {
      "text/html": [
       "<div>\n",
       "<style scoped>\n",
       "    .dataframe tbody tr th:only-of-type {\n",
       "        vertical-align: middle;\n",
       "    }\n",
       "\n",
       "    .dataframe tbody tr th {\n",
       "        vertical-align: top;\n",
       "    }\n",
       "\n",
       "    .dataframe thead th {\n",
       "        text-align: right;\n",
       "    }\n",
       "</style>\n",
       "<table border=\"1\" class=\"dataframe\">\n",
       "  <thead>\n",
       "    <tr style=\"text-align: right;\">\n",
       "      <th></th>\n",
       "      <th>co2_value</th>\n",
       "      <th>temp_value</th>\n",
       "      <th>light_value</th>\n",
       "      <th>humidity_value</th>\n",
       "      <th>time</th>\n",
       "      <th>room</th>\n",
       "      <th>label</th>\n",
       "    </tr>\n",
       "  </thead>\n",
       "  <tbody>\n",
       "    <tr>\n",
       "      <th>103476</th>\n",
       "      <td>387.0</td>\n",
       "      <td>22.62</td>\n",
       "      <td>252.0</td>\n",
       "      <td>52.75</td>\n",
       "      <td>2013-08-23 23:04:53</td>\n",
       "      <td>511</td>\n",
       "      <td>0</td>\n",
       "    </tr>\n",
       "    <tr>\n",
       "      <th>14202</th>\n",
       "      <td>579.0</td>\n",
       "      <td>24.37</td>\n",
       "      <td>176.0</td>\n",
       "      <td>49.90</td>\n",
       "      <td>2013-08-23 23:04:57</td>\n",
       "      <td>656A</td>\n",
       "      <td>1</td>\n",
       "    </tr>\n",
       "    <tr>\n",
       "      <th>59836</th>\n",
       "      <td>465.0</td>\n",
       "      <td>22.80</td>\n",
       "      <td>165.0</td>\n",
       "      <td>52.40</td>\n",
       "      <td>2013-08-23 23:04:57</td>\n",
       "      <td>644</td>\n",
       "      <td>0</td>\n",
       "    </tr>\n",
       "    <tr>\n",
       "      <th>36772</th>\n",
       "      <td>175.0</td>\n",
       "      <td>23.32</td>\n",
       "      <td>191.0</td>\n",
       "      <td>50.32</td>\n",
       "      <td>2013-08-23 23:04:57</td>\n",
       "      <td>648</td>\n",
       "      <td>0</td>\n",
       "    </tr>\n",
       "    <tr>\n",
       "      <th>57900</th>\n",
       "      <td>434.0</td>\n",
       "      <td>24.08</td>\n",
       "      <td>11.0</td>\n",
       "      <td>49.94</td>\n",
       "      <td>2013-08-23 23:05:01</td>\n",
       "      <td>564</td>\n",
       "      <td>1</td>\n",
       "    </tr>\n",
       "  </tbody>\n",
       "</table>\n",
       "</div>"
      ],
      "text/plain": [
       "        co2_value  temp_value  light_value  humidity_value  \\\n",
       "103476      387.0       22.62        252.0           52.75   \n",
       "14202       579.0       24.37        176.0           49.90   \n",
       "59836       465.0       22.80        165.0           52.40   \n",
       "36772       175.0       23.32        191.0           50.32   \n",
       "57900       434.0       24.08         11.0           49.94   \n",
       "\n",
       "                      time  room  label  \n",
       "103476 2013-08-23 23:04:53   511      0  \n",
       "14202  2013-08-23 23:04:57  656A      1  \n",
       "59836  2013-08-23 23:04:57   644      0  \n",
       "36772  2013-08-23 23:04:57   648      0  \n",
       "57900  2013-08-23 23:05:01   564      1  "
      ]
     },
     "execution_count": 21,
     "metadata": {},
     "output_type": "execute_result"
    }
   ],
   "source": [
    "pandasDF = pandasDF.sort_values(by=['time'])\n",
    "pandasDF.head()"
   ]
  },
  {
   "cell_type": "code",
   "execution_count": null,
   "id": "cc1a429e-bc6a-46f7-a849-4e7437a5f567",
   "metadata": {
    "tags": []
   },
   "outputs": [],
   "source": [
    "# pandasDF.to_csv(\"sensor-data.csv\",index=False)"
   ]
  },
  {
   "cell_type": "code",
   "execution_count": null,
   "id": "153534c2-35a8-47cb-8420-925393d15612",
   "metadata": {
    "tags": []
   },
   "outputs": [],
   "source": []
  },
  {
   "cell_type": "code",
   "execution_count": 26,
   "id": "aefa3bea-a798-4a70-bcb4-709e36ef385a",
   "metadata": {},
   "outputs": [],
   "source": []
  },
  {
   "cell_type": "code",
   "execution_count": 29,
   "id": "a0eab817-3e04-4a9d-8fcc-4920507b1346",
   "metadata": {
    "tags": []
   },
   "outputs": [],
   "source": []
  },
  {
   "cell_type": "code",
   "execution_count": 12,
   "id": "a5d2994f-6b72-473a-beb1-7506fef747a2",
   "metadata": {
    "tags": []
   },
   "outputs": [],
   "source": [
    "\n"
   ]
  },
  {
   "cell_type": "code",
   "execution_count": null,
   "id": "06f10018-ee6a-40f3-8998-32eff61e3939",
   "metadata": {},
   "outputs": [],
   "source": []
  },
  {
   "cell_type": "code",
   "execution_count": null,
   "id": "70e52a34-4105-4f44-9a95-d31b48769291",
   "metadata": {},
   "outputs": [],
   "source": []
  },
  {
   "cell_type": "code",
   "execution_count": null,
   "id": "665e09a3-6644-4fbb-8923-593a69cd94d7",
   "metadata": {},
   "outputs": [],
   "source": []
  },
  {
   "cell_type": "code",
   "execution_count": null,
   "id": "1c765443-0e8c-4119-be7a-675b099d4d0c",
   "metadata": {},
   "outputs": [],
   "source": []
  },
  {
   "cell_type": "markdown",
   "id": "563945b8",
   "metadata": {
    "tags": []
   },
   "source": []
  },
  {
   "cell_type": "code",
   "execution_count": 15,
   "id": "56460d0f",
   "metadata": {
    "tags": []
   },
   "outputs": [],
   "source": []
  },
  {
   "cell_type": "markdown",
   "id": "f47e6cdd",
   "metadata": {},
   "source": []
  },
  {
   "cell_type": "code",
   "execution_count": 21,
   "id": "ba59953c",
   "metadata": {
    "tags": []
   },
   "outputs": [
    {
     "name": "stdout",
     "output_type": "stream",
     "text": [
      "+---------+----------+-----------+--------------+-------------------+----+-----+\n",
      "|co2_value|temp_value|light_value|humidity_value|               time|room|label|\n",
      "+---------+----------+-----------+--------------+-------------------+----+-----+\n",
      "|    419.0|      23.8|        4.0|         50.13|2013-08-27 14:40:43| 456|    0|\n",
      "|    477.0|     20.78|        3.0|         59.37|2013-08-24 14:26:14| 746|    0|\n",
      "|    514.0|     22.69|      123.0|         55.89|2013-08-27 00:09:17| 666|    0|\n",
      "|    401.0|     22.86|        8.0|          57.5|2013-08-28 16:45:53| 640|    0|\n",
      "|    448.0|     23.23|        5.0|         58.64|2013-08-29 07:01:02| 644|    0|\n",
      "+---------+----------+-----------+--------------+-------------------+----+-----+\n",
      "only showing top 5 rows\n",
      "\n"
     ]
    }
   ],
   "source": []
  },
  {
   "cell_type": "markdown",
   "id": "04f5a5e5",
   "metadata": {},
   "source": []
  },
  {
   "cell_type": "code",
   "execution_count": 22,
   "id": "83c2358d",
   "metadata": {
    "tags": []
   },
   "outputs": [
    {
     "name": "stdout",
     "output_type": "stream",
     "text": [
      "+---------+----------+-----------+--------------+-------------------+----+-----+-------+---------------+-----------------------------------------------+---------------------------------------+-----------------------------------------+----------+\n",
      "|co2_value|temp_value|light_value|humidity_value|time               |room|label|roomIdx|ohe_col        |features                                       |rawPrediction                          |probability                              |prediction|\n",
      "+---------+----------+-----------+--------------+-------------------+----+-----+-------+---------------+-----------------------------------------------+---------------------------------------+-----------------------------------------+----------+\n",
      "|419.0    |23.8      |4.0        |50.13         |2013-08-27 14:40:43|456 |0    |2.0    |(50,[2],[1.0]) |(54,[0,1,2,3,6],[419.0,23.8,4.0,50.13,1.0])    |[47.574902102442735,2.4250978975572623]|[0.9514980420488547,0.048501957951145244]|0.0       |\n",
      "|477.0    |20.78     |3.0        |59.37         |2013-08-24 14:26:14|746 |0    |15.0   |(50,[15],[1.0])|(54,[0,1,2,3,19],[477.0,20.78,3.0,59.37,1.0])  |[47.58842476573847,2.411575234261524]  |[0.9517684953147695,0.04823150468523048] |0.0       |\n",
      "|514.0    |22.69     |123.0      |55.89         |2013-08-27 00:09:17|666 |0    |0.0    |(50,[0],[1.0]) |(54,[0,1,2,3,4],[514.0,22.69,123.0,55.89,1.0]) |[41.07264706902261,8.927352930977404]  |[0.8214529413804519,0.17854705861954803] |0.0       |\n",
      "|401.0    |22.86     |8.0        |57.5          |2013-08-28 16:45:53|640 |0    |11.0   |(50,[11],[1.0])|(54,[0,1,2,3,15],[401.0,22.86,8.0,57.5,1.0])   |[47.6385573882692,2.361442611730793]   |[0.9527711477653841,0.04722885223461586] |0.0       |\n",
      "|448.0    |23.23     |5.0        |58.64         |2013-08-29 07:01:02|644 |0    |7.0    |(50,[7],[1.0]) |(54,[0,1,2,3,11],[448.0,23.23,5.0,58.64,1.0])  |[47.67928490622879,2.320715093771212]  |[0.9535856981245757,0.04641430187542424] |0.0       |\n",
      "|638.0    |23.78     |132.0      |57.81         |2013-08-28 23:08:41|415 |0    |14.0   |(50,[14],[1.0])|(54,[0,1,2,3,18],[638.0,23.78,132.0,57.81,1.0])|[22.309671068691273,27.690328931308724]|[0.44619342137382545,0.5538065786261744] |1.0       |\n",
      "|361.0    |23.06     |4.0        |60.56         |2013-08-29 14:08:34|448 |0    |6.0    |(50,[6],[1.0]) |(54,[0,1,2,3,10],[361.0,23.06,4.0,60.56,1.0])  |[47.84420975041819,2.155790249581809]  |[0.9568841950083637,0.043115804991636184]|0.0       |\n",
      "|399.0    |21.91     |17.0       |55.08         |2013-08-27 14:13:35|666 |0    |0.0    |(50,[0],[1.0]) |(54,[0,1,2,3,4],[399.0,21.91,17.0,55.08,1.0])  |[47.61823359895274,2.3817664010472623] |[0.9523646719790547,0.04763532802094524] |0.0       |\n",
      "|405.0    |23.66     |4.0        |58.33         |2013-08-30 04:31:19|424 |0    |8.0    |(50,[8],[1.0]) |(54,[0,1,2,3,12],[405.0,23.66,4.0,58.33,1.0])  |[47.61796531800614,2.3820346819938574] |[0.9523593063601229,0.04764069363987715] |0.0       |\n",
      "|476.0    |24.12     |6.0        |57.13         |2013-08-29 21:31:55|564 |1    |12.0   |(50,[12],[1.0])|(54,[0,1,2,3,16],[476.0,24.12,6.0,57.13,1.0])  |[44.76636996868228,5.23363003131771]   |[0.8953273993736458,0.10467260062635422] |0.0       |\n",
      "|210.0    |26.14     |227.0      |50.96         |2013-08-29 20:21:04|648 |0    |1.0    |(50,[1],[1.0]) |(54,[0,1,2,3,5],[210.0,26.14,227.0,50.96,1.0]) |[29.476437824907233,20.523562175092763]|[0.5895287564981446,0.41047124350185527] |0.0       |\n",
      "|502.0    |23.54     |5.0        |55.58         |2013-08-26 07:14:12|776 |0    |9.0    |(50,[9],[1.0]) |(54,[0,1,2,3,13],[502.0,23.54,5.0,55.58,1.0])  |[47.67122662354505,2.328773376454942]  |[0.9534245324709012,0.04657546752909884] |0.0       |\n",
      "|392.0    |21.56     |136.0      |65.71         |2013-08-29 16:23:31|723 |0    |49.0   |(50,[49],[1.0])|(54,[0,1,2,3,53],[392.0,21.56,136.0,65.71,1.0])|[41.14888943686435,8.851110563135649]  |[0.822977788737287,0.17702221126271298]  |0.0       |\n",
      "|110.0    |22.36     |71.0       |53.13         |2013-08-24 16:03:27|648 |0    |1.0    |(50,[1],[1.0]) |(54,[0,1,2,3,5],[110.0,22.36,71.0,53.13,1.0])  |[41.539301019770996,8.46069898022901]  |[0.8307860203954198,0.16921397960458018] |0.0       |\n",
      "|313.0    |23.13     |5.0        |58.61         |2013-08-25 19:24:30|664 |0    |4.0    |(50,[4],[1.0]) |(54,[0,1,2,3,8],[313.0,23.13,5.0,58.61,1.0])   |[47.67122662354505,2.328773376454942]  |[0.9534245324709012,0.04657546752909884] |0.0       |\n",
      "|429.0    |23.52     |3.0        |58.97         |2013-08-30 10:55:16|456 |0    |2.0    |(50,[2],[1.0]) |(54,[0,1,2,3,6],[429.0,23.52,3.0,58.97,1.0])   |[47.79192585360801,2.2080741463919877] |[0.9558385170721603,0.04416148292783976] |0.0       |\n",
      "|317.0    |22.62     |2293.0     |54.26         |2013-08-24 04:08:18|668 |0    |5.0    |(50,[5],[1.0]) |(54,[0,1,2,3,9],[317.0,22.62,2293.0,54.26,1.0])|[41.90505364519117,8.094946354808835]  |[0.8381010729038233,0.1618989270961767]  |0.0       |\n",
      "|408.0    |23.6      |4.0        |58.64         |2013-08-30 06:32:09|424 |0    |8.0    |(50,[8],[1.0]) |(54,[0,1,2,3,12],[408.0,23.6,4.0,58.64,1.0])   |[47.834989069171414,2.1650109308285823]|[0.9566997813834284,0.04330021861657165] |0.0       |\n",
      "|490.0    |20.75     |7.0        |59.74         |2013-08-24 15:52:54|746 |0    |15.0   |(50,[15],[1.0])|(54,[0,1,2,3,19],[490.0,20.75,7.0,59.74,1.0])  |[47.52598616015261,2.4740138398473803] |[0.9505197232030523,0.049480276796947616]|0.0       |\n",
      "|377.0    |23.77     |44.0       |58.73         |2013-08-30 19:18:11|562 |1    |34.0   |(50,[34],[1.0])|(54,[0,1,2,3,38],[377.0,23.77,44.0,58.73,1.0]) |[33.76386418065449,16.236135819345524] |[0.6752772836130896,0.32472271638691036] |0.0       |\n",
      "+---------+----------+-----------+--------------+-------------------+----+-----+-------+---------------+-----------------------------------------------+---------------------------------------+-----------------------------------------+----------+\n",
      "only showing top 20 rows\n",
      "\n",
      "0.95460544979882\n"
     ]
    },
    {
     "data": {
      "text/plain": [
       "'areaUnderROC'"
      ]
     },
     "execution_count": 22,
     "metadata": {},
     "output_type": "execute_result"
    }
   ],
   "source": []
  },
  {
   "cell_type": "markdown",
   "id": "26cc4e13",
   "metadata": {},
   "source": []
  }
 ],
 "metadata": {
  "kernelspec": {
   "display_name": "Python 3 (ipykernel)",
   "language": "python",
   "name": "python3"
  },
  "language_info": {
   "codemirror_mode": {
    "name": "ipython",
    "version": 3
   },
   "file_extension": ".py",
   "mimetype": "text/x-python",
   "name": "python",
   "nbconvert_exporter": "python",
   "pygments_lexer": "ipython3",
   "version": "3.10.9"
  },
  "vscode": {
   "interpreter": {
    "hash": "916dbcbb3f70747c44a77c7bcd40155683ae19c65e1c03b4aa3499c5328201f1"
   }
  }
 },
 "nbformat": 4,
 "nbformat_minor": 5
}
